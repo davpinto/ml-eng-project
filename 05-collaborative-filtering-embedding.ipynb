{
 "cells": [
  {
   "cell_type": "markdown",
   "metadata": {},
   "source": [
    "# Collaborative Filtering Embedding\n",
    "\n",
    "Now we will take advantage of the user interactions to represent movies in an embedding space. We don't need any movie attribute here, only the user ratings."
   ]
  },
  {
   "cell_type": "code",
   "execution_count": 1,
   "metadata": {},
   "outputs": [],
   "source": [
    "import pandas as pd\n",
    "import numpy as np\n",
    "from scipy.sparse import coo_matrix\n",
    "from lightfm import LightFM\n",
    "from sklearn.preprocessing import normalize\n",
    "\n",
    "from src.factorization import describe_csr_matrix"
   ]
  },
  {
   "cell_type": "markdown",
   "metadata": {},
   "source": [
    "## Building the Utility Matrix\n",
    "\n",
    "First of all, we need to put data into an user/movie matrix format. Users will be represented as rows, movies as columns and like(+1)/dislike(-1) as values."
   ]
  },
  {
   "cell_type": "code",
   "execution_count": 2,
   "metadata": {},
   "outputs": [
    {
     "name": "stderr",
     "output_type": "stream",
     "text": [
      "/home/recommender/anaconda3/envs/movie-similarity/lib/python3.7/site-packages/numpy/lib/arraysetops.py:580: FutureWarning: elementwise comparison failed; returning scalar instead, but in the future will perform elementwise comparison\n",
      "  mask |= (ar1 == a)\n"
     ]
    },
    {
     "data": {
      "text/html": [
       "<div>\n",
       "<style scoped>\n",
       "    .dataframe tbody tr th:only-of-type {\n",
       "        vertical-align: middle;\n",
       "    }\n",
       "\n",
       "    .dataframe tbody tr th {\n",
       "        vertical-align: top;\n",
       "    }\n",
       "\n",
       "    .dataframe thead th {\n",
       "        text-align: right;\n",
       "    }\n",
       "</style>\n",
       "<table border=\"1\" class=\"dataframe\">\n",
       "  <thead>\n",
       "    <tr style=\"text-align: right;\">\n",
       "      <th></th>\n",
       "      <th>id</th>\n",
       "      <th>user</th>\n",
       "      <th>rating</th>\n",
       "      <th>title</th>\n",
       "    </tr>\n",
       "  </thead>\n",
       "  <tbody>\n",
       "    <tr>\n",
       "      <th>0</th>\n",
       "      <td>2</td>\n",
       "      <td>4</td>\n",
       "      <td>4.0</td>\n",
       "      <td>Jumanji</td>\n",
       "    </tr>\n",
       "    <tr>\n",
       "      <th>1</th>\n",
       "      <td>2</td>\n",
       "      <td>14</td>\n",
       "      <td>4.0</td>\n",
       "      <td>Jumanji</td>\n",
       "    </tr>\n",
       "    <tr>\n",
       "      <th>2</th>\n",
       "      <td>2</td>\n",
       "      <td>39</td>\n",
       "      <td>3.5</td>\n",
       "      <td>Jumanji</td>\n",
       "    </tr>\n",
       "    <tr>\n",
       "      <th>3</th>\n",
       "      <td>2</td>\n",
       "      <td>42</td>\n",
       "      <td>3.0</td>\n",
       "      <td>Jumanji</td>\n",
       "    </tr>\n",
       "    <tr>\n",
       "      <th>4</th>\n",
       "      <td>2</td>\n",
       "      <td>45</td>\n",
       "      <td>0.5</td>\n",
       "      <td>Jumanji</td>\n",
       "    </tr>\n",
       "  </tbody>\n",
       "</table>\n",
       "</div>"
      ],
      "text/plain": [
       "   id  user  rating    title\n",
       "0   2     4     4.0  Jumanji\n",
       "1   2    14     4.0  Jumanji\n",
       "2   2    39     3.5  Jumanji\n",
       "3   2    42     3.0  Jumanji\n",
       "4   2    45     0.5  Jumanji"
      ]
     },
     "execution_count": 2,
     "metadata": {},
     "output_type": "execute_result"
    }
   ],
   "source": [
    "ratings = pd.read_csv('data/movie_ratings.csv', index_col='id')\n",
    "movies = pd.read_csv('data/movie_info.csv', usecols=['id','title'], index_col='id')\n",
    "\n",
    "ratings = ratings.join(movies, how='inner')\n",
    "ratings.reset_index(drop=False, inplace=True)\n",
    "\n",
    "ratings.head()"
   ]
  },
  {
   "cell_type": "markdown",
   "metadata": {},
   "source": [
    "We need to convert idss to indexes in order to crete the sparse matrix:"
   ]
  },
  {
   "cell_type": "code",
   "execution_count": 3,
   "metadata": {},
   "outputs": [
    {
     "data": {
      "text/html": [
       "<div>\n",
       "<style scoped>\n",
       "    .dataframe tbody tr th:only-of-type {\n",
       "        vertical-align: middle;\n",
       "    }\n",
       "\n",
       "    .dataframe tbody tr th {\n",
       "        vertical-align: top;\n",
       "    }\n",
       "\n",
       "    .dataframe thead th {\n",
       "        text-align: right;\n",
       "    }\n",
       "</style>\n",
       "<table border=\"1\" class=\"dataframe\">\n",
       "  <thead>\n",
       "    <tr style=\"text-align: right;\">\n",
       "      <th></th>\n",
       "      <th>id</th>\n",
       "      <th>user</th>\n",
       "      <th>rating</th>\n",
       "      <th>title</th>\n",
       "      <th>user_idx</th>\n",
       "      <th>movie_idx</th>\n",
       "    </tr>\n",
       "  </thead>\n",
       "  <tbody>\n",
       "    <tr>\n",
       "      <th>0</th>\n",
       "      <td>2</td>\n",
       "      <td>4</td>\n",
       "      <td>4.0</td>\n",
       "      <td>Jumanji</td>\n",
       "      <td>3</td>\n",
       "      <td>0</td>\n",
       "    </tr>\n",
       "    <tr>\n",
       "      <th>1</th>\n",
       "      <td>2</td>\n",
       "      <td>14</td>\n",
       "      <td>4.0</td>\n",
       "      <td>Jumanji</td>\n",
       "      <td>12</td>\n",
       "      <td>0</td>\n",
       "    </tr>\n",
       "    <tr>\n",
       "      <th>2</th>\n",
       "      <td>2</td>\n",
       "      <td>39</td>\n",
       "      <td>3.5</td>\n",
       "      <td>Jumanji</td>\n",
       "      <td>35</td>\n",
       "      <td>0</td>\n",
       "    </tr>\n",
       "    <tr>\n",
       "      <th>3</th>\n",
       "      <td>2</td>\n",
       "      <td>42</td>\n",
       "      <td>3.0</td>\n",
       "      <td>Jumanji</td>\n",
       "      <td>37</td>\n",
       "      <td>0</td>\n",
       "    </tr>\n",
       "    <tr>\n",
       "      <th>4</th>\n",
       "      <td>2</td>\n",
       "      <td>45</td>\n",
       "      <td>0.5</td>\n",
       "      <td>Jumanji</td>\n",
       "      <td>40</td>\n",
       "      <td>0</td>\n",
       "    </tr>\n",
       "  </tbody>\n",
       "</table>\n",
       "</div>"
      ],
      "text/plain": [
       "   id  user  rating    title  user_idx  movie_idx\n",
       "0   2     4     4.0  Jumanji         3          0\n",
       "1   2    14     4.0  Jumanji        12          0\n",
       "2   2    39     3.5  Jumanji        35          0\n",
       "3   2    42     3.0  Jumanji        37          0\n",
       "4   2    45     0.5  Jumanji        40          0"
      ]
     },
     "execution_count": 3,
     "metadata": {},
     "output_type": "execute_result"
    }
   ],
   "source": [
    "ratings['user_idx'] = ratings['user'].astype('category').cat.codes\n",
    "ratings['movie_idx'] = ratings['id'].astype('category').cat.codes\n",
    "\n",
    "ratings.head()"
   ]
  },
  {
   "cell_type": "markdown",
   "metadata": {},
   "source": [
    "Ratings above 3.5 will be considered as likes (+1) and the remaining ones as dislikes (-1):"
   ]
  },
  {
   "cell_type": "code",
   "execution_count": 4,
   "metadata": {},
   "outputs": [
    {
     "data": {
      "text/plain": [
       " 1.0    15810170\n",
       "-1.0     9643061\n",
       "Name: value, dtype: int64"
      ]
     },
     "execution_count": 4,
     "metadata": {},
     "output_type": "execute_result"
    }
   ],
   "source": [
    "ratings['value'] = np.where(ratings['rating'] >= 3.5, 1.0, -1.0)\n",
    "ratings['value'].value_counts()"
   ]
  },
  {
   "cell_type": "markdown",
   "metadata": {},
   "source": [
    "So we will crete a +1/-1 sparse matrix to represent user interactions with the movies:"
   ]
  },
  {
   "cell_type": "code",
   "execution_count": 5,
   "metadata": {},
   "outputs": [
    {
     "name": "stdout",
     "output_type": "stream",
     "text": [
      "273627 x 10698 sparse matrix with 99.13% of sparsity.\n"
     ]
    }
   ],
   "source": [
    "values = ratings['value'].values\n",
    "idx = (ratings.user_idx.values, ratings.movie_idx.values,)\n",
    "dim = (ratings.user_idx.max()+1, ratings.movie_idx.max()+1)\n",
    "x = coo_matrix((values, idx), shape=dim)\n",
    "\n",
    "print(describe_csr_matrix(x))"
   ]
  },
  {
   "cell_type": "markdown",
   "metadata": {},
   "source": [
    "## Factorizing the Utility Matrix\n",
    "\n",
    "By factorizing the utility matrix we will get user factors and movie factors. The last ones will be used as embedding features to represent movies. As in the content based approach, we will get 300 factors:"
   ]
  },
  {
   "cell_type": "code",
   "execution_count": 6,
   "metadata": {},
   "outputs": [
    {
     "name": "stdout",
     "output_type": "stream",
     "text": [
      "CPU times: user 33min 13s, sys: 1.06 s, total: 33min 14s\n",
      "Wall time: 4min 17s\n"
     ]
    },
    {
     "data": {
      "text/plain": [
       "<lightfm.lightfm.LightFM at 0x7f12fe7959d0>"
      ]
     },
     "execution_count": 6,
     "metadata": {},
     "output_type": "execute_result"
    }
   ],
   "source": [
    "%%time\n",
    "\n",
    "N_COMPONENTS = 300\n",
    "lfm = LightFM(no_components=N_COMPONENTS, loss='logistic', random_state=0)\n",
    "lfm.fit(x, epochs=5, num_threads=8, verbose=False)"
   ]
  },
  {
   "cell_type": "markdown",
   "metadata": {},
   "source": [
    "Since we have +1/-1 values, we applied a Logistic Loss. Then, we can extract movie factors and bias:"
   ]
  },
  {
   "cell_type": "code",
   "execution_count": 7,
   "metadata": {},
   "outputs": [
    {
     "name": "stdout",
     "output_type": "stream",
     "text": [
      "(10698, 300)\n",
      "[[ 0.13717581 -0.03386943 -0.03017038  0.05062018  0.03954934]\n",
      " [ 0.03843264  0.02700372 -0.01565084  0.02153345 -0.09214582]\n",
      " [ 0.07393657 -0.06563244 -0.05454138  0.03856608  0.0649413 ]\n",
      " [ 0.05018987 -0.07951837 -0.03726879  0.05435565 -0.09216952]\n",
      " [ 0.00977158  0.00257648 -0.04626083 -0.03330302 -0.04443587]]\n"
     ]
    }
   ],
   "source": [
    "movie_bias, movie_embedding = lfm.get_item_representations()\n",
    "movie_embedding = normalize(movie_embedding, norm=\"l2\", axis=1, copy=False)\n",
    "\n",
    "print(movie_embedding.shape)\n",
    "print(movie_embedding[:5, :5])"
   ]
  },
  {
   "cell_type": "markdown",
   "metadata": {},
   "source": [
    "Let's check the bias term against the number of votes, number of likes and average rating:"
   ]
  },
  {
   "cell_type": "code",
   "execution_count": 8,
   "metadata": {},
   "outputs": [
    {
     "name": "stdout",
     "output_type": "stream",
     "text": [
      "CPU times: user 3.46 s, sys: 1.57 s, total: 5.03 s\n",
      "Wall time: 4.63 s\n"
     ]
    },
    {
     "data": {
      "text/html": [
       "<div>\n",
       "<style scoped>\n",
       "    .dataframe tbody tr th:only-of-type {\n",
       "        vertical-align: middle;\n",
       "    }\n",
       "\n",
       "    .dataframe tbody tr th {\n",
       "        vertical-align: top;\n",
       "    }\n",
       "\n",
       "    .dataframe thead th {\n",
       "        text-align: right;\n",
       "    }\n",
       "</style>\n",
       "<table border=\"1\" class=\"dataframe\">\n",
       "  <thead>\n",
       "    <tr style=\"text-align: right;\">\n",
       "      <th></th>\n",
       "      <th>id</th>\n",
       "      <th>title</th>\n",
       "      <th>num_votes</th>\n",
       "      <th>num_likes</th>\n",
       "      <th>num_dislikes</th>\n",
       "      <th>avg_rating</th>\n",
       "      <th>bias</th>\n",
       "    </tr>\n",
       "  </thead>\n",
       "  <tbody>\n",
       "    <tr>\n",
       "      <th>0</th>\n",
       "      <td>2</td>\n",
       "      <td>Jumanji</td>\n",
       "      <td>27138</td>\n",
       "      <td>12345.0</td>\n",
       "      <td>14793.0</td>\n",
       "      <td>3.246499</td>\n",
       "      <td>-0.311027</td>\n",
       "    </tr>\n",
       "    <tr>\n",
       "      <th>1</th>\n",
       "      <td>3</td>\n",
       "      <td>Grumpier Old Men</td>\n",
       "      <td>15579</td>\n",
       "      <td>5861.0</td>\n",
       "      <td>9718.0</td>\n",
       "      <td>3.173792</td>\n",
       "      <td>-0.631766</td>\n",
       "    </tr>\n",
       "    <tr>\n",
       "      <th>2</th>\n",
       "      <td>4</td>\n",
       "      <td>Waiting to Exhale</td>\n",
       "      <td>2989</td>\n",
       "      <td>848.0</td>\n",
       "      <td>2141.0</td>\n",
       "      <td>2.874540</td>\n",
       "      <td>-0.952873</td>\n",
       "    </tr>\n",
       "    <tr>\n",
       "      <th>3</th>\n",
       "      <td>5</td>\n",
       "      <td>Father of the Bride Part II</td>\n",
       "      <td>15466</td>\n",
       "      <td>5064.0</td>\n",
       "      <td>10402.0</td>\n",
       "      <td>3.077169</td>\n",
       "      <td>-1.132931</td>\n",
       "    </tr>\n",
       "    <tr>\n",
       "      <th>4</th>\n",
       "      <td>6</td>\n",
       "      <td>Heat</td>\n",
       "      <td>28680</td>\n",
       "      <td>20049.0</td>\n",
       "      <td>8631.0</td>\n",
       "      <td>3.844125</td>\n",
       "      <td>0.970788</td>\n",
       "    </tr>\n",
       "  </tbody>\n",
       "</table>\n",
       "</div>"
      ],
      "text/plain": [
       "   id                        title  num_votes  num_likes  num_dislikes  \\\n",
       "0   2                      Jumanji      27138    12345.0       14793.0   \n",
       "1   3             Grumpier Old Men      15579     5861.0        9718.0   \n",
       "2   4            Waiting to Exhale       2989      848.0        2141.0   \n",
       "3   5  Father of the Bride Part II      15466     5064.0       10402.0   \n",
       "4   6                         Heat      28680    20049.0        8631.0   \n",
       "\n",
       "   avg_rating      bias  \n",
       "0    3.246499 -0.311027  \n",
       "1    3.173792 -0.631766  \n",
       "2    2.874540 -0.952873  \n",
       "3    3.077169 -1.132931  \n",
       "4    3.844125  0.970788  "
      ]
     },
     "execution_count": 8,
     "metadata": {},
     "output_type": "execute_result"
    }
   ],
   "source": [
    "%%time\n",
    "\n",
    "ratings['like'] = np.where(ratings['rating'] >= 3.5, 1.0, 0.0)\n",
    "ratings['dislike'] = np.where(ratings['rating'] < 3.5, 1.0, 0.0)\n",
    "\n",
    "movie_votes = ratings.groupby(['id']).agg(\n",
    "    title = pd.NamedAgg(column='title', aggfunc='first'),\n",
    "    num_votes = pd.NamedAgg(column='user_idx', aggfunc='count'),\n",
    "    num_likes = pd.NamedAgg(column='like', aggfunc='sum'),\n",
    "    num_dislikes = pd.NamedAgg(column='dislike', aggfunc='sum'),\n",
    "    avg_rating = pd.NamedAgg(column='rating', aggfunc='mean'),\n",
    ").reset_index(drop=False)\n",
    "movie_votes['bias'] = movie_bias\n",
    "\n",
    "movie_votes.head()"
   ]
  },
  {
   "cell_type": "code",
   "execution_count": 9,
   "metadata": {},
   "outputs": [
    {
     "data": {
      "text/plain": [
       "<AxesSubplot:xlabel='num_votes', ylabel='bias'>"
      ]
     },
     "execution_count": 9,
     "metadata": {},
     "output_type": "execute_result"
    },
    {
     "data": {
      "image/png": "[encoded data removed]",
      "text/plain": [
       "<Figure size 432x288 with 1 Axes>"
      ]
     },
     "metadata": {
      "needs_background": "light"
     },
     "output_type": "display_data"
    }
   ],
   "source": [
    "movie_votes.plot.scatter(x='num_votes', y='bias')"
   ]
  },
  {
   "cell_type": "code",
   "execution_count": 10,
   "metadata": {},
   "outputs": [
    {
     "data": {
      "text/plain": [
       "<AxesSubplot:xlabel='num_likes', ylabel='bias'>"
      ]
     },
     "execution_count": 10,
     "metadata": {},
     "output_type": "execute_result"
    },
    {
     "data": {
      "image/png": "[encoded data removed]",
      "text/plain": [
       "<Figure size 432x288 with 1 Axes>"
      ]
     },
     "metadata": {
      "needs_background": "light"
     },
     "output_type": "display_data"
    }
   ],
   "source": [
    "movie_votes.plot.scatter(x='num_likes', y='bias')"
   ]
  },
  {
   "cell_type": "code",
   "execution_count": 11,
   "metadata": {},
   "outputs": [
    {
     "data": {
      "text/plain": [
       "<AxesSubplot:xlabel='num_dislikes', ylabel='bias'>"
      ]
     },
     "execution_count": 11,
     "metadata": {},
     "output_type": "execute_result"
    },
    {
     "data": {
      "image/png": "[encoded data removed]",
      "text/plain": [
       "<Figure size 432x288 with 1 Axes>"
      ]
     },
     "metadata": {
      "needs_background": "light"
     },
     "output_type": "display_data"
    }
   ],
   "source": [
    "movie_votes.plot.scatter(x='num_dislikes', y='bias')"
   ]
  },
  {
   "cell_type": "code",
   "execution_count": 12,
   "metadata": {},
   "outputs": [
    {
     "data": {
      "text/plain": [
       "<AxesSubplot:xlabel='avg_rating', ylabel='bias'>"
      ]
     },
     "execution_count": 12,
     "metadata": {},
     "output_type": "execute_result"
    },
    {
     "data": {
      "image/png": "[encoded data removed]",
      "text/plain": [
       "<Figure size 432x288 with 1 Axes>"
      ]
     },
     "metadata": {
      "needs_background": "light"
     },
     "output_type": "display_data"
    }
   ],
   "source": [
    "movie_votes.plot.scatter(x='avg_rating', y='bias')"
   ]
  },
  {
   "cell_type": "markdown",
   "metadata": {},
   "source": [
    "We can observe a strong correlation between average rating and the bias term learned in the factorization step."
   ]
  },
  {
   "cell_type": "markdown",
   "metadata": {},
   "source": [
    "## Visualizing the Embedding Space\n",
    "\n",
    "Let's check the learned factors using the Embedding Projector:"
   ]
  },
  {
   "cell_type": "code",
   "execution_count": 13,
   "metadata": {},
   "outputs": [
    {
     "name": "stdout",
     "output_type": "stream",
     "text": [
      "CPU times: user 4.6 s, sys: 168 ms, total: 4.77 s\n",
      "Wall time: 4.76 s\n"
     ]
    }
   ],
   "source": [
    "%%time\n",
    "\n",
    "movie_votes[['id','title']].to_csv('output/cb_embedding_meta.tsv', sep='\\t', header=True, index=False)\n",
    "pd.DataFrame(movie_embedding).to_csv('output/collab_filt_vectors.tsv', sep='\\t', \n",
    "                                     float_format='%.5f', header=False, index=False)"
   ]
  },
  {
   "cell_type": "markdown",
   "metadata": {},
   "source": [
    "![](img/collab_filt_lord_rings.png)"
   ]
  },
  {
   "cell_type": "markdown",
   "metadata": {},
   "source": [
    "![](img/collab_filt_star_wars.png)"
   ]
  },
  {
   "cell_type": "markdown",
   "metadata": {},
   "source": [
    "![](img/collab_filt_pulp_fiction.png)"
   ]
  }
 ],
 "metadata": {
  "kernelspec": {
   "display_name": "Python 3",
   "language": "python",
   "name": "python3"
  },
  "language_info": {
   "codemirror_mode": {
    "name": "ipython",
    "version": 3
   },
   "file_extension": ".py",
   "mimetype": "text/x-python",
   "name": "python",
   "nbconvert_exporter": "python",
   "pygments_lexer": "ipython3",
   "version": "3.7.9"
  }
 },
 "nbformat": 4,
 "nbformat_minor": 4
}
