{
 "cells": [
  {
   "cell_type": "code",
   "execution_count": 1,
   "metadata": {},
   "outputs": [],
   "source": [
    "import pandas as pd\n",
    "import numpy as np\n",
    "\n",
    "from sklearn.feature_extraction.text import TfidfVectorizer\n",
    "from sklearn.decomposition import TruncatedSVD\n",
    "from sklearn.preprocessing import normalize\n",
    "\n",
    "from scipy.sparse import coo_matrix, hstack\n",
    "\n",
    "from src.text import clean_text\n",
    "from src.factorization import describe_csr_matrix"
   ]
  },
  {
   "cell_type": "code",
   "execution_count": 2,
   "metadata": {},
   "outputs": [
    {
     "data": {
      "text/html": [
       "<div>\n",
       "<style scoped>\n",
       "    .dataframe tbody tr th:only-of-type {\n",
       "        vertical-align: middle;\n",
       "    }\n",
       "\n",
       "    .dataframe tbody tr th {\n",
       "        vertical-align: top;\n",
       "    }\n",
       "\n",
       "    .dataframe thead th {\n",
       "        text-align: right;\n",
       "    }\n",
       "</style>\n",
       "<table border=\"1\" class=\"dataframe\">\n",
       "  <thead>\n",
       "    <tr style=\"text-align: right;\">\n",
       "      <th></th>\n",
       "      <th>id</th>\n",
       "      <th>original_title</th>\n",
       "      <th>title</th>\n",
       "      <th>overview</th>\n",
       "      <th>tagline</th>\n",
       "      <th>tags</th>\n",
       "      <th>keywords</th>\n",
       "      <th>idx</th>\n",
       "    </tr>\n",
       "  </thead>\n",
       "  <tbody>\n",
       "    <tr>\n",
       "      <th>0</th>\n",
       "      <td>2</td>\n",
       "      <td>Jumanji</td>\n",
       "      <td>Jumanji</td>\n",
       "      <td>When siblings Judy and Peter discover an encha...</td>\n",
       "      <td>Roll the dice and unleash the excitement!</td>\n",
       "      <td>fantasy adapted from:book animals bad cgi base...</td>\n",
       "      <td>board game disappearance based on children's b...</td>\n",
       "      <td>0</td>\n",
       "    </tr>\n",
       "    <tr>\n",
       "      <th>1</th>\n",
       "      <td>3</td>\n",
       "      <td>Grumpier Old Men</td>\n",
       "      <td>Grumpier Old Men</td>\n",
       "      <td>A family wedding reignites the ancient feud be...</td>\n",
       "      <td>Still Yelling. Still Fighting. Still Ready for...</td>\n",
       "      <td>moldy old Ann Margaret Burgess Meredith Daryl ...</td>\n",
       "      <td>fishing best friend duringcreditsstinger old men</td>\n",
       "      <td>1</td>\n",
       "    </tr>\n",
       "    <tr>\n",
       "      <th>2</th>\n",
       "      <td>4</td>\n",
       "      <td>Waiting to Exhale</td>\n",
       "      <td>Waiting to Exhale</td>\n",
       "      <td>Cheated on, mistreated and stepped on, the wom...</td>\n",
       "      <td>Friends are the people who let you be yourself...</td>\n",
       "      <td>characters girl movie characters chick flick b...</td>\n",
       "      <td>based on novel interracial relationship single...</td>\n",
       "      <td>2</td>\n",
       "    </tr>\n",
       "    <tr>\n",
       "      <th>3</th>\n",
       "      <td>5</td>\n",
       "      <td>Father of the Bride Part II</td>\n",
       "      <td>Father of the Bride Part II</td>\n",
       "      <td>Just when George Banks has recovered from his ...</td>\n",
       "      <td>Just When His World Is Back To Normal... He's ...</td>\n",
       "      <td>steve martin steve martin pregnancy remake agi...</td>\n",
       "      <td>baby midlife crisis confidence aging daughter ...</td>\n",
       "      <td>3</td>\n",
       "    </tr>\n",
       "    <tr>\n",
       "      <th>4</th>\n",
       "      <td>6</td>\n",
       "      <td>Heat</td>\n",
       "      <td>Heat</td>\n",
       "      <td>Obsessive master thief, Neil McCauley leads a ...</td>\n",
       "      <td>A Los Angeles Crime Saga</td>\n",
       "      <td>overrated bank robbery crime heists relationsh...</td>\n",
       "      <td>robbery detective bank obsession chase shootin...</td>\n",
       "      <td>4</td>\n",
       "    </tr>\n",
       "  </tbody>\n",
       "</table>\n",
       "</div>"
      ],
      "text/plain": [
       "   id               original_title                        title  \\\n",
       "0   2                      Jumanji                      Jumanji   \n",
       "1   3             Grumpier Old Men             Grumpier Old Men   \n",
       "2   4            Waiting to Exhale            Waiting to Exhale   \n",
       "3   5  Father of the Bride Part II  Father of the Bride Part II   \n",
       "4   6                         Heat                         Heat   \n",
       "\n",
       "                                            overview  \\\n",
       "0  When siblings Judy and Peter discover an encha...   \n",
       "1  A family wedding reignites the ancient feud be...   \n",
       "2  Cheated on, mistreated and stepped on, the wom...   \n",
       "3  Just when George Banks has recovered from his ...   \n",
       "4  Obsessive master thief, Neil McCauley leads a ...   \n",
       "\n",
       "                                             tagline  \\\n",
       "0          Roll the dice and unleash the excitement!   \n",
       "1  Still Yelling. Still Fighting. Still Ready for...   \n",
       "2  Friends are the people who let you be yourself...   \n",
       "3  Just When His World Is Back To Normal... He's ...   \n",
       "4                           A Los Angeles Crime Saga   \n",
       "\n",
       "                                                tags  \\\n",
       "0  fantasy adapted from:book animals bad cgi base...   \n",
       "1  moldy old Ann Margaret Burgess Meredith Daryl ...   \n",
       "2  characters girl movie characters chick flick b...   \n",
       "3  steve martin steve martin pregnancy remake agi...   \n",
       "4  overrated bank robbery crime heists relationsh...   \n",
       "\n",
       "                                            keywords  idx  \n",
       "0  board game disappearance based on children's b...    0  \n",
       "1   fishing best friend duringcreditsstinger old men    1  \n",
       "2  based on novel interracial relationship single...    2  \n",
       "3  baby midlife crisis confidence aging daughter ...    3  \n",
       "4  robbery detective bank obsession chase shootin...    4  "
      ]
     },
     "execution_count": 2,
     "metadata": {},
     "output_type": "execute_result"
    }
   ],
   "source": [
    "movies = pd.read_csv('data/movie_info.csv', index_col='id')\n",
    "tags = pd.read_csv('data/movie_tags.csv', index_col='id')\n",
    "keywords = pd.read_csv('data/movie_keywords.csv', index_col='id')\n",
    "\n",
    "movies = movies.join(tags)\n",
    "movies = movies.join(keywords)\n",
    "\n",
    "movies.fillna('', inplace=True)\n",
    "movies.reset_index(drop=False, inplace=True)\n",
    "movies['idx'] = movies.index\n",
    "\n",
    "movies.head()"
   ]
  },
  {
   "cell_type": "code",
   "execution_count": 3,
   "metadata": {},
   "outputs": [
    {
     "name": "stdout",
     "output_type": "stream",
     "text": [
      "CPU times: user 5.15 s, sys: 28 ms, total: 5.18 s\n",
      "Wall time: 5.18 s\n"
     ]
    }
   ],
   "source": [
    "%%time\n",
    "\n",
    "movies['text'] = movies['title'] + \" \" + movies['overview'] + \" \" + movies['tagline'] + \" \" + movies['tags'] + \" \" + movies['keywords']\n",
    "text = list(map(clean_text, movies['text']))"
   ]
  },
  {
   "cell_type": "code",
   "execution_count": 4,
   "metadata": {},
   "outputs": [
    {
     "data": {
      "text/plain": [
       "'jumanji siblings judy peter discover enchanted board game opens door magical world unwittingly invite alan adult trapped inside game years living room alan hope freedom finish game proves risky three find running giant rhinoceroses evil monkeys terrifying creatures roll dice unleash excitement fantasy adapted book animals bad cgi based book board game childhood recaptured children chris van allsburg fantasy filmed bc jungle kid flick kirsten dunst monkey robin williams saturn award best special effects saturn award best supporting actress scary time time travel fantasy robin williams adapted book childish children kid flick time travel robin williams time travel robin williams joe johnston robin williams children kid flick itaege fantasy robin williams scary time travel game animals comedy fiction thrill dynamic cgi action bad cgi horrifying horror genre kirsten dunst magic board game monkey kids based children book board game disappearance giant insect new home recluse animals fantasy lebbat bad cgi magic board game children fantasy robin williams kirsten dunst robin williams robin williams animals based book fantasy magic board game monkey kids robin williams scary time travel animals bad cgi board game kids robin williams time travel animals bad cgi based book board game chris van allsburg baker viu robin williams time travel board game robin williams filmed bc fantasy fantasy time travel adventure family fantasy kids magic board game robin williams adaptation book robin williams time travel animals bad cgi board game fantasy robin williams time travel children kid flick bad cgi kid flick robin williams monkey fantasy robin williams jungle adapted book board game childhood recaptured game herds cgi animals scary see also zathura time time travel robin williams robin williams time travel kid flick bad cgi kid flick scary time travel adventure board game fantasy robin williams time travel fantasy fantasy time travel fantasy robin williams fantasy magic board game robin williams joe johnston fantasy robin williams time travel animals board game children fantasy kirsten dunst robin williams time travel animals fantasy robin williams scary animals childhood recaptured herds cgi animals kirsten dunst robin williams rainy day watchlist robin williams robin williams animals robin williams board game family fantasy fiction robin williams scary time travel board game time travel fantasy robin williams animals board game fantasy robin williams clv bad cgi kid flick robin williams board game fantasy robin williams scary time travel board game disappearance based children book new home recluse giant insect'"
      ]
     },
     "execution_count": 4,
     "metadata": {},
     "output_type": "execute_result"
    }
   ],
   "source": [
    "text[0]"
   ]
  },
  {
   "cell_type": "code",
   "execution_count": 5,
   "metadata": {},
   "outputs": [
    {
     "name": "stdout",
     "output_type": "stream",
     "text": [
      "20664 x 30000 sparse matrix with 99.79% of sparsity.\n",
      "CPU times: user 7.66 s, sys: 212 ms, total: 7.87 s\n",
      "Wall time: 7.87 s\n"
     ]
    }
   ],
   "source": [
    "%%time\n",
    "\n",
    "vectorizer = TfidfVectorizer(lowercase=False, max_df=0.5, min_df=5, ngram_range=(1, 2), \n",
    "                             norm='l2', max_features=30000, sublinear_tf=True)\n",
    "tfidf = vectorizer.fit_transform(text)\n",
    "\n",
    "print(describe_csr_matrix(tfidf))"
   ]
  },
  {
   "cell_type": "code",
   "execution_count": 6,
   "metadata": {},
   "outputs": [
    {
     "name": "stdout",
     "output_type": "stream",
     "text": [
      "CPU times: user 2min 52s, sys: 2.49 s, total: 2min 55s\n",
      "Wall time: 15.5 s\n"
     ]
    }
   ],
   "source": [
    "%%time\n",
    "\n",
    "N_COMPONENTS = 300\n",
    "\n",
    "svd = TruncatedSVD(n_components=N_COMPONENTS, algorithm=\"arpack\", random_state=0)\n",
    "tfidf_embedding = svd.fit_transform(tfidf)\n",
    "tfidf_embedding = normalize(tfidf_embedding, norm=\"l2\", axis=1, copy=False)"
   ]
  },
  {
   "cell_type": "code",
   "execution_count": 7,
   "metadata": {},
   "outputs": [
    {
     "data": {
      "text/plain": [
       "array([[ 0.25978422,  0.14438212, -0.05602641, -0.22529994, -0.04495186],\n",
       "       [ 0.2858111 , -0.0013326 , -0.01666825, -0.07195877, -0.13320343],\n",
       "       [ 0.26561558, -0.00429922,  0.04043506, -0.1946472 , -0.00089588],\n",
       "       [ 0.26571431, -0.0101457 ,  0.04745808, -0.08960982, -0.10626855],\n",
       "       [ 0.28616025,  0.06104085, -0.18023526, -0.02229071,  0.08331679],\n",
       "       [ 0.24919263,  0.02468183,  0.05931765, -0.22802884, -0.01663561],\n",
       "       [ 0.24453729,  0.06750767, -0.05225763, -0.13217729, -0.00044391],\n",
       "       [ 0.10017961,  0.0318589 , -0.04592212,  0.02716878, -0.03254294],\n",
       "       [ 0.19016097,  0.10069776, -0.11507438, -0.01157223,  0.01068907],\n",
       "       [ 0.25756446,  0.08071997,  0.03394685, -0.08249145, -0.03711651]])"
      ]
     },
     "execution_count": 7,
     "metadata": {},
     "output_type": "execute_result"
    }
   ],
   "source": [
    "tfidf_embedding[:10, :5]"
   ]
  },
  {
   "cell_type": "code",
   "execution_count": 8,
   "metadata": {},
   "outputs": [
    {
     "name": "stdout",
     "output_type": "stream",
     "text": [
      "CPU times: user 8.93 s, sys: 56 ms, total: 8.99 s\n",
      "Wall time: 9.03 s\n"
     ]
    }
   ],
   "source": [
    "%%time\n",
    "\n",
    "movies[['id','title']].to_csv('output/content_embedding_meta.tsv', sep='\\t', header=True, index=False)\n",
    "pd.DataFrame(tfidf_embedding).to_csv('output/tfidf_embedding_vectors.tsv', sep='\\t', \n",
    "                                     float_format='%.5f', header=False, index=False)"
   ]
  },
  {
   "cell_type": "markdown",
   "metadata": {},
   "source": [
    "![](img/tfidf_lord_rings.png)"
   ]
  },
  {
   "cell_type": "markdown",
   "metadata": {},
   "source": [
    "![](img/tfidf_star_wars.png)"
   ]
  },
  {
   "cell_type": "markdown",
   "metadata": {},
   "source": [
    "![](img/tfidf_pulp_fiction.png)"
   ]
  },
  {
   "cell_type": "code",
   "execution_count": 27,
   "metadata": {},
   "outputs": [
    {
     "data": {
      "text/html": [
       "<div>\n",
       "<style scoped>\n",
       "    .dataframe tbody tr th:only-of-type {\n",
       "        vertical-align: middle;\n",
       "    }\n",
       "\n",
       "    .dataframe tbody tr th {\n",
       "        vertical-align: top;\n",
       "    }\n",
       "\n",
       "    .dataframe thead th {\n",
       "        text-align: right;\n",
       "    }\n",
       "</style>\n",
       "<table border=\"1\" class=\"dataframe\">\n",
       "  <thead>\n",
       "    <tr style=\"text-align: right;\">\n",
       "      <th></th>\n",
       "      <th>person_id</th>\n",
       "      <th>job</th>\n",
       "      <th>person_name</th>\n",
       "      <th>num_movies</th>\n",
       "      <th>movie_idx</th>\n",
       "      <th>person_idx</th>\n",
       "    </tr>\n",
       "  </thead>\n",
       "  <tbody>\n",
       "    <tr>\n",
       "      <th>361</th>\n",
       "      <td>1</td>\n",
       "      <td>Director</td>\n",
       "      <td>George Lucas</td>\n",
       "      <td>61</td>\n",
       "      <td>204</td>\n",
       "      <td>0</td>\n",
       "    </tr>\n",
       "    <tr>\n",
       "      <th>362</th>\n",
       "      <td>1</td>\n",
       "      <td>Writer</td>\n",
       "      <td>George Lucas</td>\n",
       "      <td>61</td>\n",
       "      <td>204</td>\n",
       "      <td>0</td>\n",
       "    </tr>\n",
       "    <tr>\n",
       "      <th>3409</th>\n",
       "      <td>1</td>\n",
       "      <td>Director</td>\n",
       "      <td>George Lucas</td>\n",
       "      <td>61</td>\n",
       "      <td>1929</td>\n",
       "      <td>0</td>\n",
       "    </tr>\n",
       "    <tr>\n",
       "      <th>4347</th>\n",
       "      <td>1</td>\n",
       "      <td>Director</td>\n",
       "      <td>George Lucas</td>\n",
       "      <td>61</td>\n",
       "      <td>2469</td>\n",
       "      <td>0</td>\n",
       "    </tr>\n",
       "    <tr>\n",
       "      <th>6826</th>\n",
       "      <td>1</td>\n",
       "      <td>Director</td>\n",
       "      <td>George Lucas</td>\n",
       "      <td>61</td>\n",
       "      <td>3933</td>\n",
       "      <td>0</td>\n",
       "    </tr>\n",
       "  </tbody>\n",
       "</table>\n",
       "</div>"
      ],
      "text/plain": [
       "     person_id       job   person_name  num_movies  movie_idx  person_idx\n",
       "361          1  Director  George Lucas          61        204           0\n",
       "362          1    Writer  George Lucas          61        204           0\n",
       "3409         1  Director  George Lucas          61       1929           0\n",
       "4347         1  Director  George Lucas          61       2469           0\n",
       "6826         1  Director  George Lucas          61       3933           0"
      ]
     },
     "execution_count": 27,
     "metadata": {},
     "output_type": "execute_result"
    }
   ],
   "source": [
    "crew = pd.read_csv('data/movie_producer.csv', index_col='id')\n",
    "\n",
    "crew = crew.join(movies[['id','idx']].set_index('id'), how='inner')\n",
    "crew.reset_index(drop=True, inplace=True)\n",
    "crew.rename(columns={'idx':'movie_idx'}, inplace=True)\n",
    "\n",
    "crew['person_id'] = crew['person_id'].astype('category')\n",
    "crew['person_idx'] = crew['person_id'].cat.codes\n",
    "\n",
    "crew.sort_values(['person_idx','movie_idx'], inplace=True)\n",
    "\n",
    "crew.head()"
   ]
  },
  {
   "cell_type": "code",
   "execution_count": 28,
   "metadata": {},
   "outputs": [
    {
     "data": {
      "text/html": [
       "<div>\n",
       "<style scoped>\n",
       "    .dataframe tbody tr th:only-of-type {\n",
       "        vertical-align: middle;\n",
       "    }\n",
       "\n",
       "    .dataframe tbody tr th {\n",
       "        vertical-align: top;\n",
       "    }\n",
       "\n",
       "    .dataframe thead th {\n",
       "        text-align: right;\n",
       "    }\n",
       "</style>\n",
       "<table border=\"1\" class=\"dataframe\">\n",
       "  <thead>\n",
       "    <tr style=\"text-align: right;\">\n",
       "      <th></th>\n",
       "      <th>person_idx</th>\n",
       "      <th>movie_idx</th>\n",
       "      <th>count</th>\n",
       "    </tr>\n",
       "  </thead>\n",
       "  <tbody>\n",
       "    <tr>\n",
       "      <th>0</th>\n",
       "      <td>0</td>\n",
       "      <td>204</td>\n",
       "      <td>2</td>\n",
       "    </tr>\n",
       "    <tr>\n",
       "      <th>1</th>\n",
       "      <td>0</td>\n",
       "      <td>1929</td>\n",
       "      <td>1</td>\n",
       "    </tr>\n",
       "    <tr>\n",
       "      <th>2</th>\n",
       "      <td>0</td>\n",
       "      <td>2469</td>\n",
       "      <td>1</td>\n",
       "    </tr>\n",
       "    <tr>\n",
       "      <th>3</th>\n",
       "      <td>0</td>\n",
       "      <td>3933</td>\n",
       "      <td>2</td>\n",
       "    </tr>\n",
       "    <tr>\n",
       "      <th>4</th>\n",
       "      <td>0</td>\n",
       "      <td>4774</td>\n",
       "      <td>1</td>\n",
       "    </tr>\n",
       "  </tbody>\n",
       "</table>\n",
       "</div>"
      ],
      "text/plain": [
       "   person_idx  movie_idx  count\n",
       "0           0        204      2\n",
       "1           0       1929      1\n",
       "2           0       2469      1\n",
       "3           0       3933      2\n",
       "4           0       4774      1"
      ]
     },
     "execution_count": 28,
     "metadata": {},
     "output_type": "execute_result"
    }
   ],
   "source": [
    "crew = crew.groupby(['person_idx','movie_idx']).agg(\n",
    "    count=pd.NamedAgg(column='movie_idx', aggfunc='count')\n",
    ")\n",
    "crew.reset_index(drop=False, inplace=True)\n",
    "\n",
    "crew.head()"
   ]
  },
  {
   "cell_type": "code",
   "execution_count": 29,
   "metadata": {},
   "outputs": [
    {
     "name": "stdout",
     "output_type": "stream",
     "text": [
      "20664 x 3635 sparse matrix with 99.97% of sparsity.\n"
     ]
    }
   ],
   "source": [
    "values = crew['count'].values\n",
    "idx = (crew.movie_idx.values, crew.person_idx.values,)\n",
    "dim = (movies.idx.max()+1, crew.person_idx.max()+1)\n",
    "x_crew = coo_matrix((values, idx), shape=dim).tocsr()\n",
    "\n",
    "print(describe_csr_matrix(x_crew))"
   ]
  },
  {
   "cell_type": "code",
   "execution_count": 12,
   "metadata": {},
   "outputs": [
    {
     "name": "stdout",
     "output_type": "stream",
     "text": [
      "20664 x 34106 sparse matrix with 99.82% of sparsity.\n"
     ]
    }
   ],
   "source": [
    "x_crew = normalize(x_crew, norm=\"l2\", axis=1, copy=False)\n",
    "x_tfidf_crew = hstack([tfidf, x_crew])\n",
    "\n",
    "print(describe_csr_matrix(x_tfidf_crew))"
   ]
  },
  {
   "cell_type": "code",
   "execution_count": 13,
   "metadata": {},
   "outputs": [
    {
     "name": "stdout",
     "output_type": "stream",
     "text": [
      "CPU times: user 2min 50s, sys: 2.54 s, total: 2min 52s\n",
      "Wall time: 15.3 s\n"
     ]
    }
   ],
   "source": [
    "%%time\n",
    "\n",
    "tfidf_crew_embedding = svd.fit_transform(x_tfidf_crew)\n",
    "tfidf_crew_embedding = normalize(tfidf_crew_embedding, norm=\"l2\", axis=1, copy=False)"
   ]
  },
  {
   "cell_type": "code",
   "execution_count": 14,
   "metadata": {},
   "outputs": [
    {
     "data": {
      "text/plain": [
       "array([[ 0.31318117,  0.17605868, -0.08106005, -0.24501315,  0.05572816],\n",
       "       [ 0.33767752, -0.00823395,  0.00432691, -0.06634586, -0.13689336],\n",
       "       [ 0.32999252, -0.01437527,  0.06563404, -0.20575035, -0.05288874],\n",
       "       [ 0.30538574, -0.03881612,  0.08001554, -0.10589796, -0.08918625],\n",
       "       [ 0.16065123,  0.04394259, -0.09994559, -0.03926394, -0.0276426 ],\n",
       "       [ 0.12164504,  0.02239622,  0.03740184, -0.12167827, -0.04634859],\n",
       "       [ 0.32886804,  0.09096829, -0.05632673, -0.14993616, -0.03390621],\n",
       "       [ 0.06832814,  0.02244006, -0.04589063,  0.02329674, -0.00306025],\n",
       "       [ 0.17951467,  0.10554795, -0.12176603, -0.02243625,  0.01868125],\n",
       "       [ 0.15990407,  0.04954473,  0.03144718, -0.07532962, -0.04347711]])"
      ]
     },
     "execution_count": 14,
     "metadata": {},
     "output_type": "execute_result"
    }
   ],
   "source": [
    "tfidf_crew_embedding[:10, :5]"
   ]
  },
  {
   "cell_type": "code",
   "execution_count": 15,
   "metadata": {},
   "outputs": [
    {
     "name": "stdout",
     "output_type": "stream",
     "text": [
      "CPU times: user 9.02 s, sys: 40 ms, total: 9.06 s\n",
      "Wall time: 9.06 s\n"
     ]
    }
   ],
   "source": [
    "%%time\n",
    "\n",
    "pd.DataFrame(tfidf_crew_embedding).to_csv('output/tfidf_crew_embedding_vectors.tsv', sep='\\t', \n",
    "                                          float_format='%.5f', header=False, index=False)"
   ]
  },
  {
   "cell_type": "markdown",
   "metadata": {},
   "source": [
    "![](img/tfidf_crew_lord_rings.png)"
   ]
  },
  {
   "cell_type": "markdown",
   "metadata": {},
   "source": [
    "![](img/tfidf_crew_star_wars.png)"
   ]
  },
  {
   "cell_type": "markdown",
   "metadata": {},
   "source": [
    "![](img/tfidf_crew_pulp_fiction.png)"
   ]
  },
  {
   "cell_type": "code",
   "execution_count": 25,
   "metadata": {},
   "outputs": [
    {
     "data": {
      "text/html": [
       "<div>\n",
       "<style scoped>\n",
       "    .dataframe tbody tr th:only-of-type {\n",
       "        vertical-align: middle;\n",
       "    }\n",
       "\n",
       "    .dataframe tbody tr th {\n",
       "        vertical-align: top;\n",
       "    }\n",
       "\n",
       "    .dataframe thead th {\n",
       "        text-align: right;\n",
       "    }\n",
       "</style>\n",
       "<table border=\"1\" class=\"dataframe\">\n",
       "  <thead>\n",
       "    <tr style=\"text-align: right;\">\n",
       "      <th></th>\n",
       "      <th>actor_id</th>\n",
       "      <th>actor_name</th>\n",
       "      <th>num_movies</th>\n",
       "      <th>movie_idx</th>\n",
       "      <th>actor_idx</th>\n",
       "      <th>count</th>\n",
       "    </tr>\n",
       "  </thead>\n",
       "  <tbody>\n",
       "    <tr>\n",
       "      <th>14430</th>\n",
       "      <td>1</td>\n",
       "      <td>George Lucas</td>\n",
       "      <td>20</td>\n",
       "      <td>1522</td>\n",
       "      <td>0</td>\n",
       "      <td>1.0</td>\n",
       "    </tr>\n",
       "    <tr>\n",
       "      <th>23696</th>\n",
       "      <td>1</td>\n",
       "      <td>George Lucas</td>\n",
       "      <td>20</td>\n",
       "      <td>2555</td>\n",
       "      <td>0</td>\n",
       "      <td>1.0</td>\n",
       "    </tr>\n",
       "    <tr>\n",
       "      <th>55828</th>\n",
       "      <td>1</td>\n",
       "      <td>George Lucas</td>\n",
       "      <td>20</td>\n",
       "      <td>6410</td>\n",
       "      <td>0</td>\n",
       "      <td>1.0</td>\n",
       "    </tr>\n",
       "    <tr>\n",
       "      <th>59623</th>\n",
       "      <td>1</td>\n",
       "      <td>George Lucas</td>\n",
       "      <td>20</td>\n",
       "      <td>6955</td>\n",
       "      <td>0</td>\n",
       "      <td>1.0</td>\n",
       "    </tr>\n",
       "    <tr>\n",
       "      <th>85152</th>\n",
       "      <td>1</td>\n",
       "      <td>George Lucas</td>\n",
       "      <td>20</td>\n",
       "      <td>10229</td>\n",
       "      <td>0</td>\n",
       "      <td>1.0</td>\n",
       "    </tr>\n",
       "  </tbody>\n",
       "</table>\n",
       "</div>"
      ],
      "text/plain": [
       "      actor_id    actor_name  num_movies  movie_idx  actor_idx  count\n",
       "14430        1  George Lucas          20       1522          0    1.0\n",
       "23696        1  George Lucas          20       2555          0    1.0\n",
       "55828        1  George Lucas          20       6410          0    1.0\n",
       "59623        1  George Lucas          20       6955          0    1.0\n",
       "85152        1  George Lucas          20      10229          0    1.0"
      ]
     },
     "execution_count": 25,
     "metadata": {},
     "output_type": "execute_result"
    }
   ],
   "source": [
    "cast = pd.read_csv('data/movie_actor.csv', index_col='id')\n",
    "\n",
    "cast = cast.join(movies[['id','idx']].set_index('id'), how='inner')\n",
    "cast.reset_index(drop=True, inplace=True)\n",
    "cast.rename(columns={'idx':'movie_idx'}, inplace=True)\n",
    "\n",
    "cast['actor_id'] = cast['actor_id'].astype('category')\n",
    "cast['actor_idx'] = cast['actor_id'].cat.codes\n",
    "cast['count'] = 1.0\n",
    "\n",
    "cast.sort_values(['actor_idx','movie_idx'], inplace=True)\n",
    "\n",
    "cast.head()"
   ]
  },
  {
   "cell_type": "code",
   "execution_count": 26,
   "metadata": {},
   "outputs": [
    {
     "name": "stdout",
     "output_type": "stream",
     "text": [
      "20664 x 10269 sparse matrix with 99.94% of sparsity.\n"
     ]
    }
   ],
   "source": [
    "values = cast['count'].values\n",
    "idx = (cast.movie_idx.values, cast.actor_idx.values,)\n",
    "dim = (movies.idx.max()+1, cast.actor_idx.max()+1)\n",
    "x_cast = coo_matrix((values, idx), shape=dim).tocsr()\n",
    "\n",
    "print(describe_csr_matrix(x_cast))"
   ]
  },
  {
   "cell_type": "code",
   "execution_count": 30,
   "metadata": {},
   "outputs": [
    {
     "name": "stdout",
     "output_type": "stream",
     "text": [
      "20664 x 43904 sparse matrix with 99.84% of sparsity.\n"
     ]
    }
   ],
   "source": [
    "x_tfidf_crew_cast = hstack([tfidf, x_crew, x_cast])\n",
    "\n",
    "print(describe_csr_matrix(x_tfidf_crew_cast))"
   ]
  },
  {
   "cell_type": "code",
   "execution_count": 31,
   "metadata": {},
   "outputs": [
    {
     "name": "stdout",
     "output_type": "stream",
     "text": [
      "CPU times: user 3min 34s, sys: 3.19 s, total: 3min 37s\n",
      "Wall time: 19.2 s\n"
     ]
    }
   ],
   "source": [
    "%%time\n",
    "\n",
    "tfidf_crew_cast_embedding = svd.fit_transform(x_tfidf_crew_cast)\n",
    "tfidf_crew_cast_embedding = normalize(tfidf_crew_cast_embedding, norm=\"l2\", axis=1, copy=False)"
   ]
  },
  {
   "cell_type": "code",
   "execution_count": 32,
   "metadata": {},
   "outputs": [
    {
     "data": {
      "text/plain": [
       "array([[ 4.64751395e-04,  6.54836918e-02,  4.19997931e-02,\n",
       "        -1.80599902e-01, -1.34363617e-02],\n",
       "       [ 1.41679640e-03,  4.27266195e-02,  4.72426610e-02,\n",
       "        -9.92891462e-02, -6.80458834e-03],\n",
       "       [ 1.52663667e-03,  7.60918158e-02,  6.50928235e-02,\n",
       "        -2.23117202e-01, -1.46940540e-02],\n",
       "       [ 3.21382295e-04,  4.70928298e-02,  3.37889305e-02,\n",
       "        -1.23476697e-01, -9.18367327e-03],\n",
       "       [ 4.65341012e-04,  4.71901327e-02,  3.07430766e-02,\n",
       "        -1.51399891e-01, -1.17035544e-02],\n",
       "       [ 7.01697209e-04,  4.10423261e-02,  2.82187929e-02,\n",
       "        -1.15515118e-01, -8.55346765e-03],\n",
       "       [ 1.60814257e-03,  1.63717682e-01,  1.53390957e-01,\n",
       "        -3.90336691e-01, -2.03963537e-02],\n",
       "       [ 6.54653172e-04,  4.34461847e-02,  3.97507282e-02,\n",
       "        -1.26215998e-01, -3.51817374e-03],\n",
       "       [ 4.94849818e-04,  3.29496022e-02,  2.48962696e-02,\n",
       "        -9.81895522e-02, -7.30288853e-03],\n",
       "       [ 7.74255137e-04,  4.70633978e-02,  3.45051163e-02,\n",
       "        -1.32088878e-01, -9.03746880e-03]])"
      ]
     },
     "execution_count": 32,
     "metadata": {},
     "output_type": "execute_result"
    }
   ],
   "source": [
    "tfidf_crew_cast_embedding[:10, :5]"
   ]
  },
  {
   "cell_type": "code",
   "execution_count": 34,
   "metadata": {},
   "outputs": [
    {
     "name": "stdout",
     "output_type": "stream",
     "text": [
      "CPU times: user 8.72 s, sys: 136 ms, total: 8.85 s\n",
      "Wall time: 8.85 s\n"
     ]
    }
   ],
   "source": [
    "%%time\n",
    "\n",
    "pd.DataFrame(tfidf_crew_cast_embedding).to_csv('output/tfidf_crew_cast_embedding_vectors.tsv', sep='\\t', \n",
    "                                          float_format='%.5f', header=False, index=False)"
   ]
  },
  {
   "cell_type": "markdown",
   "metadata": {},
   "source": [
    "![](img/tfidf_crew_cast_lord_rings.png)"
   ]
  },
  {
   "cell_type": "markdown",
   "metadata": {},
   "source": [
    "![](img/tfidf_crew_cast_star_wars.png)"
   ]
  },
  {
   "cell_type": "markdown",
   "metadata": {},
   "source": [
    "![](img/tfidf_crew_cast_pulp_fiction.png)"
   ]
  }
 ],
 "metadata": {
  "kernelspec": {
   "display_name": "Python 3",
   "language": "python",
   "name": "python3"
  },
  "language_info": {
   "codemirror_mode": {
    "name": "ipython",
    "version": 3
   },
   "file_extension": ".py",
   "mimetype": "text/x-python",
   "name": "python",
   "nbconvert_exporter": "python",
   "pygments_lexer": "ipython3",
   "version": "3.7.9"
  }
 },
 "nbformat": 4,
 "nbformat_minor": 4
}
