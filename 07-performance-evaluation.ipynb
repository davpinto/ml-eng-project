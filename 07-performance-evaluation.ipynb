{
 "cells": [
  {
   "cell_type": "markdown",
   "metadata": {},
   "source": [
    "# Performance Evaluation\n",
    "\n",
    "In this notebook we compare recomendations based on the embedding similarity match with recomendations based on user correlation. The later is just a reference. We don't have the \"correct\" similars to measure performance properly. In an e-commerce, for example, we compare algorithms using A/B testing with business metrics like CTR and conversion. The better the business metric, the better the recommendation approach."
   ]
  },
  {
   "cell_type": "code",
   "execution_count": 39,
   "metadata": {},
   "outputs": [],
   "source": [
    "import pandas as pd\n",
    "import numpy as np\n",
    "from plotnine import *\n",
    "\n",
    "from src.evaluation import spearman_corr, precision_recall"
   ]
  },
  {
   "cell_type": "markdown",
   "metadata": {},
   "source": [
    "## Ranking Correlation\n",
    "\n",
    "In the Similarity Match notebook we have computed the cosine similarity between pairs of movies. Now, we will compare the user correlation ranking with the cosine similarity ranking based from the embedding features. In addition, we will check if the embedding features carries any type of popularity bias.\n",
    "\n",
    "The Spearman Ranking Correlation Coefficient will give us a value between -1 (exactly opposite order) and +1 (same order). Like the classical Pearson's Correlation Coefficient, values above 0.3 can be seen as an evidence of correlation.\n",
    "\n",
    "For each target movie we will compute the correlation between the user similarity ranking and the cosine similarity ranking. Then, we will evaluate the distribution of the correlation measures."
   ]
  },
  {
   "cell_type": "code",
   "execution_count": 40,
   "metadata": {},
   "outputs": [
    {
     "data": {
      "text/html": [
       "<div>\n",
       "<style scoped>\n",
       "    .dataframe tbody tr th:only-of-type {\n",
       "        vertical-align: middle;\n",
       "    }\n",
       "\n",
       "    .dataframe tbody tr th {\n",
       "        vertical-align: top;\n",
       "    }\n",
       "\n",
       "    .dataframe thead th {\n",
       "        text-align: right;\n",
       "    }\n",
       "</style>\n",
       "<table border=\"1\" class=\"dataframe\">\n",
       "  <thead>\n",
       "    <tr style=\"text-align: right;\">\n",
       "      <th></th>\n",
       "      <th>num_votes</th>\n",
       "      <th>num_likes</th>\n",
       "      <th>avg_rating</th>\n",
       "    </tr>\n",
       "    <tr>\n",
       "      <th>id</th>\n",
       "      <th></th>\n",
       "      <th></th>\n",
       "      <th></th>\n",
       "    </tr>\n",
       "  </thead>\n",
       "  <tbody>\n",
       "    <tr>\n",
       "      <th>1</th>\n",
       "      <td>68410</td>\n",
       "      <td>50939.0</td>\n",
       "      <td>3.886508</td>\n",
       "    </tr>\n",
       "    <tr>\n",
       "      <th>2</th>\n",
       "      <td>27138</td>\n",
       "      <td>12345.0</td>\n",
       "      <td>3.246499</td>\n",
       "    </tr>\n",
       "    <tr>\n",
       "      <th>3</th>\n",
       "      <td>15579</td>\n",
       "      <td>5861.0</td>\n",
       "      <td>3.173792</td>\n",
       "    </tr>\n",
       "    <tr>\n",
       "      <th>4</th>\n",
       "      <td>2989</td>\n",
       "      <td>848.0</td>\n",
       "      <td>2.874540</td>\n",
       "    </tr>\n",
       "    <tr>\n",
       "      <th>5</th>\n",
       "      <td>15466</td>\n",
       "      <td>5064.0</td>\n",
       "      <td>3.077169</td>\n",
       "    </tr>\n",
       "  </tbody>\n",
       "</table>\n",
       "</div>"
      ],
      "text/plain": [
       "    num_votes  num_likes  avg_rating\n",
       "id                                  \n",
       "1       68410    50939.0    3.886508\n",
       "2       27138    12345.0    3.246499\n",
       "3       15579     5861.0    3.173792\n",
       "4        2989      848.0    2.874540\n",
       "5       15466     5064.0    3.077169"
      ]
     },
     "execution_count": 40,
     "metadata": {},
     "output_type": "execute_result"
    }
   ],
   "source": [
    "ratings = pd.read_csv('data/movie_ratings.csv')\n",
    "ratings['like'] = np.where(ratings['rating'] >= 3.5, 1.0, 0.0)\n",
    "ratings = ratings.groupby('id').agg(\n",
    "    num_votes=('user', 'count'),\n",
    "    num_likes=('like', 'sum'),\n",
    "    avg_rating=('rating', 'mean')\n",
    ")\n",
    "ratings.head()"
   ]
  },
  {
   "cell_type": "markdown",
   "metadata": {},
   "source": [
    "### Ranking with Text Embedding"
   ]
  },
  {
   "cell_type": "code",
   "execution_count": 41,
   "metadata": {},
   "outputs": [
    {
     "data": {
      "text/html": [
       "<div>\n",
       "<style scoped>\n",
       "    .dataframe tbody tr th:only-of-type {\n",
       "        vertical-align: middle;\n",
       "    }\n",
       "\n",
       "    .dataframe tbody tr th {\n",
       "        vertical-align: top;\n",
       "    }\n",
       "\n",
       "    .dataframe thead th {\n",
       "        text-align: right;\n",
       "    }\n",
       "</style>\n",
       "<table border=\"1\" class=\"dataframe\">\n",
       "  <thead>\n",
       "    <tr style=\"text-align: right;\">\n",
       "      <th></th>\n",
       "      <th>id_right</th>\n",
       "      <th>similarity</th>\n",
       "      <th>id_left</th>\n",
       "      <th>target</th>\n",
       "    </tr>\n",
       "  </thead>\n",
       "  <tbody>\n",
       "    <tr>\n",
       "      <th>0</th>\n",
       "      <td>4886</td>\n",
       "      <td>0.433568</td>\n",
       "      <td>2</td>\n",
       "      <td>0.235485</td>\n",
       "    </tr>\n",
       "    <tr>\n",
       "      <th>1</th>\n",
       "      <td>110</td>\n",
       "      <td>0.401254</td>\n",
       "      <td>2</td>\n",
       "      <td>0.242349</td>\n",
       "    </tr>\n",
       "    <tr>\n",
       "      <th>2</th>\n",
       "      <td>4306</td>\n",
       "      <td>0.387088</td>\n",
       "      <td>2</td>\n",
       "      <td>0.240394</td>\n",
       "    </tr>\n",
       "    <tr>\n",
       "      <th>3</th>\n",
       "      <td>1097</td>\n",
       "      <td>0.383907</td>\n",
       "      <td>2</td>\n",
       "      <td>0.233132</td>\n",
       "    </tr>\n",
       "    <tr>\n",
       "      <th>4</th>\n",
       "      <td>1291</td>\n",
       "      <td>0.352362</td>\n",
       "      <td>2</td>\n",
       "      <td>0.232228</td>\n",
       "    </tr>\n",
       "  </tbody>\n",
       "</table>\n",
       "</div>"
      ],
      "text/plain": [
       "   id_right  similarity  id_left    target\n",
       "0      4886    0.433568        2  0.235485\n",
       "1       110    0.401254        2  0.242349\n",
       "2      4306    0.387088        2  0.240394\n",
       "3      1097    0.383907        2  0.233132\n",
       "4      1291    0.352362        2  0.232228"
      ]
     },
     "execution_count": 41,
     "metadata": {},
     "output_type": "execute_result"
    }
   ],
   "source": [
    "tfidf_ranking = pd.read_csv('output/movie_ranking_tfidf.csv')\n",
    "tfidf_ranking.head()"
   ]
  },
  {
   "cell_type": "code",
   "execution_count": 42,
   "metadata": {},
   "outputs": [
    {
     "data": {
      "text/html": [
       "<div>\n",
       "<style scoped>\n",
       "    .dataframe tbody tr th:only-of-type {\n",
       "        vertical-align: middle;\n",
       "    }\n",
       "\n",
       "    .dataframe tbody tr th {\n",
       "        vertical-align: top;\n",
       "    }\n",
       "\n",
       "    .dataframe thead th {\n",
       "        text-align: right;\n",
       "    }\n",
       "</style>\n",
       "<table border=\"1\" class=\"dataframe\">\n",
       "  <thead>\n",
       "    <tr style=\"text-align: right;\">\n",
       "      <th></th>\n",
       "      <th>corr</th>\n",
       "      <th>num_votes</th>\n",
       "      <th>num_likes</th>\n",
       "      <th>avg_rating</th>\n",
       "    </tr>\n",
       "  </thead>\n",
       "  <tbody>\n",
       "    <tr>\n",
       "      <th>2</th>\n",
       "      <td>-0.127273</td>\n",
       "      <td>27138</td>\n",
       "      <td>12345.0</td>\n",
       "      <td>3.246499</td>\n",
       "    </tr>\n",
       "    <tr>\n",
       "      <th>21</th>\n",
       "      <td>-0.515152</td>\n",
       "      <td>25699</td>\n",
       "      <td>14913.0</td>\n",
       "      <td>3.568368</td>\n",
       "    </tr>\n",
       "    <tr>\n",
       "      <th>34</th>\n",
       "      <td>-0.054545</td>\n",
       "      <td>35900</td>\n",
       "      <td>21916.0</td>\n",
       "      <td>3.613858</td>\n",
       "    </tr>\n",
       "    <tr>\n",
       "      <th>50</th>\n",
       "      <td>-0.187879</td>\n",
       "      <td>62129</td>\n",
       "      <td>55297.0</td>\n",
       "      <td>4.292038</td>\n",
       "    </tr>\n",
       "    <tr>\n",
       "      <th>62</th>\n",
       "      <td>-0.163636</td>\n",
       "      <td>23348</td>\n",
       "      <td>14857.0</td>\n",
       "      <td>3.746595</td>\n",
       "    </tr>\n",
       "  </tbody>\n",
       "</table>\n",
       "</div>"
      ],
      "text/plain": [
       "        corr  num_votes  num_likes  avg_rating\n",
       "2  -0.127273      27138    12345.0    3.246499\n",
       "21 -0.515152      25699    14913.0    3.568368\n",
       "34 -0.054545      35900    21916.0    3.613858\n",
       "50 -0.187879      62129    55297.0    4.292038\n",
       "62 -0.163636      23348    14857.0    3.746595"
      ]
     },
     "execution_count": 42,
     "metadata": {},
     "output_type": "execute_result"
    }
   ],
   "source": [
    "tfidf_corr = spearman_corr(tfidf_ranking, 'similarity', 'target', 'id_left')\n",
    "tfidf_corr = tfidf_corr.join(ratings, how='inner')\n",
    "tfidf_corr.head()"
   ]
  },
  {
   "cell_type": "code",
   "execution_count": 43,
   "metadata": {},
   "outputs": [
    {
     "data": {
      "text/plain": [
       "<AxesSubplot:ylabel='Frequency'>"
      ]
     },
     "execution_count": 43,
     "metadata": {},
     "output_type": "execute_result"
    },
    {
     "data": {
      "image/png": "[encoded data removed]",
      "text/plain": [
       "<Figure size 432x288 with 1 Axes>"
      ]
     },
     "metadata": {
      "needs_background": "light"
     },
     "output_type": "display_data"
    }
   ],
   "source": [
    "tfidf_corr['corr'].plot.hist(bins=30)"
   ]
  },
  {
   "cell_type": "markdown",
   "metadata": {},
   "source": [
    "For the greatest part of the target movies we have a positive rankling correlation."
   ]
  },
  {
   "cell_type": "code",
   "execution_count": 44,
   "metadata": {},
   "outputs": [
    {
     "data": {
      "text/plain": [
       "count    382.000000\n",
       "mean       0.122926\n",
       "std        0.369945\n",
       "min       -0.733333\n",
       "25%       -0.151515\n",
       "50%        0.151515\n",
       "75%        0.406061\n",
       "max        0.915152\n",
       "Name: corr, dtype: float64"
      ]
     },
     "execution_count": 44,
     "metadata": {},
     "output_type": "execute_result"
    }
   ],
   "source": [
    "tfidf_corr['corr'].describe()"
   ]
  },
  {
   "cell_type": "code",
   "execution_count": 45,
   "metadata": {},
   "outputs": [
    {
     "data": {
      "text/plain": [
       "<AxesSubplot:xlabel='corr', ylabel='num_votes'>"
      ]
     },
     "execution_count": 45,
     "metadata": {},
     "output_type": "execute_result"
    },
    {
     "data": {
      "image/png": "[encoded data removed]",
      "text/plain": [
       "<Figure size 432x288 with 1 Axes>"
      ]
     },
     "metadata": {
      "needs_background": "light"
     },
     "output_type": "display_data"
    }
   ],
   "source": [
    "tfidf_corr.plot.scatter(x='corr', y='num_votes')"
   ]
  },
  {
   "cell_type": "markdown",
   "metadata": {},
   "source": [
    "From this scatter plot we can see that there is no popularity bias in the model performance."
   ]
  },
  {
   "cell_type": "markdown",
   "metadata": {},
   "source": [
    "### Ranking with Content Embedding (Text + Crew)"
   ]
  },
  {
   "cell_type": "code",
   "execution_count": 46,
   "metadata": {},
   "outputs": [
    {
     "data": {
      "text/html": [
       "<div>\n",
       "<style scoped>\n",
       "    .dataframe tbody tr th:only-of-type {\n",
       "        vertical-align: middle;\n",
       "    }\n",
       "\n",
       "    .dataframe tbody tr th {\n",
       "        vertical-align: top;\n",
       "    }\n",
       "\n",
       "    .dataframe thead th {\n",
       "        text-align: right;\n",
       "    }\n",
       "</style>\n",
       "<table border=\"1\" class=\"dataframe\">\n",
       "  <thead>\n",
       "    <tr style=\"text-align: right;\">\n",
       "      <th></th>\n",
       "      <th>id_right</th>\n",
       "      <th>similarity</th>\n",
       "      <th>id_left</th>\n",
       "      <th>target</th>\n",
       "    </tr>\n",
       "  </thead>\n",
       "  <tbody>\n",
       "    <tr>\n",
       "      <th>0</th>\n",
       "      <td>6377</td>\n",
       "      <td>0.382239</td>\n",
       "      <td>2</td>\n",
       "      <td>0.229354</td>\n",
       "    </tr>\n",
       "    <tr>\n",
       "      <th>1</th>\n",
       "      <td>4306</td>\n",
       "      <td>0.336810</td>\n",
       "      <td>2</td>\n",
       "      <td>0.240394</td>\n",
       "    </tr>\n",
       "    <tr>\n",
       "      <th>2</th>\n",
       "      <td>364</td>\n",
       "      <td>0.310683</td>\n",
       "      <td>2</td>\n",
       "      <td>0.335812</td>\n",
       "    </tr>\n",
       "    <tr>\n",
       "      <th>3</th>\n",
       "      <td>1097</td>\n",
       "      <td>0.279052</td>\n",
       "      <td>2</td>\n",
       "      <td>0.233132</td>\n",
       "    </tr>\n",
       "    <tr>\n",
       "      <th>4</th>\n",
       "      <td>4886</td>\n",
       "      <td>0.272782</td>\n",
       "      <td>2</td>\n",
       "      <td>0.235485</td>\n",
       "    </tr>\n",
       "  </tbody>\n",
       "</table>\n",
       "</div>"
      ],
      "text/plain": [
       "   id_right  similarity  id_left    target\n",
       "0      6377    0.382239        2  0.229354\n",
       "1      4306    0.336810        2  0.240394\n",
       "2       364    0.310683        2  0.335812\n",
       "3      1097    0.279052        2  0.233132\n",
       "4      4886    0.272782        2  0.235485"
      ]
     },
     "execution_count": 46,
     "metadata": {},
     "output_type": "execute_result"
    }
   ],
   "source": [
    "tfidf_crew_ranking = pd.read_csv('output/movie_ranking_tfidf_crew.csv')\n",
    "tfidf_crew_ranking.head()"
   ]
  },
  {
   "cell_type": "code",
   "execution_count": 47,
   "metadata": {},
   "outputs": [
    {
     "data": {
      "text/html": [
       "<div>\n",
       "<style scoped>\n",
       "    .dataframe tbody tr th:only-of-type {\n",
       "        vertical-align: middle;\n",
       "    }\n",
       "\n",
       "    .dataframe tbody tr th {\n",
       "        vertical-align: top;\n",
       "    }\n",
       "\n",
       "    .dataframe thead th {\n",
       "        text-align: right;\n",
       "    }\n",
       "</style>\n",
       "<table border=\"1\" class=\"dataframe\">\n",
       "  <thead>\n",
       "    <tr style=\"text-align: right;\">\n",
       "      <th></th>\n",
       "      <th>corr</th>\n",
       "      <th>num_votes</th>\n",
       "      <th>num_likes</th>\n",
       "      <th>avg_rating</th>\n",
       "    </tr>\n",
       "  </thead>\n",
       "  <tbody>\n",
       "    <tr>\n",
       "      <th>2</th>\n",
       "      <td>-0.066667</td>\n",
       "      <td>27138</td>\n",
       "      <td>12345.0</td>\n",
       "      <td>3.246499</td>\n",
       "    </tr>\n",
       "    <tr>\n",
       "      <th>21</th>\n",
       "      <td>0.272727</td>\n",
       "      <td>25699</td>\n",
       "      <td>14913.0</td>\n",
       "      <td>3.568368</td>\n",
       "    </tr>\n",
       "    <tr>\n",
       "      <th>34</th>\n",
       "      <td>-0.066667</td>\n",
       "      <td>35900</td>\n",
       "      <td>21916.0</td>\n",
       "      <td>3.613858</td>\n",
       "    </tr>\n",
       "    <tr>\n",
       "      <th>50</th>\n",
       "      <td>-0.248485</td>\n",
       "      <td>62129</td>\n",
       "      <td>55297.0</td>\n",
       "      <td>4.292038</td>\n",
       "    </tr>\n",
       "    <tr>\n",
       "      <th>62</th>\n",
       "      <td>-0.212121</td>\n",
       "      <td>23348</td>\n",
       "      <td>14857.0</td>\n",
       "      <td>3.746595</td>\n",
       "    </tr>\n",
       "  </tbody>\n",
       "</table>\n",
       "</div>"
      ],
      "text/plain": [
       "        corr  num_votes  num_likes  avg_rating\n",
       "2  -0.066667      27138    12345.0    3.246499\n",
       "21  0.272727      25699    14913.0    3.568368\n",
       "34 -0.066667      35900    21916.0    3.613858\n",
       "50 -0.248485      62129    55297.0    4.292038\n",
       "62 -0.212121      23348    14857.0    3.746595"
      ]
     },
     "execution_count": 47,
     "metadata": {},
     "output_type": "execute_result"
    }
   ],
   "source": [
    "tfidf_crew_corr = spearman_corr(tfidf_crew_ranking, 'similarity', 'target', 'id_left')\n",
    "tfidf_crew_corr = tfidf_crew_corr.join(ratings, how='inner')\n",
    "tfidf_crew_corr.head()"
   ]
  },
  {
   "cell_type": "code",
   "execution_count": 48,
   "metadata": {},
   "outputs": [
    {
     "data": {
      "text/plain": [
       "<AxesSubplot:ylabel='Frequency'>"
      ]
     },
     "execution_count": 48,
     "metadata": {},
     "output_type": "execute_result"
    },
    {
     "data": {
      "image/png": "[encoded data removed]",
      "text/plain": [
       "<Figure size 432x288 with 1 Axes>"
      ]
     },
     "metadata": {
      "needs_background": "light"
     },
     "output_type": "display_data"
    }
   ],
   "source": [
    "tfidf_crew_corr['corr'].plot.hist(bins=30)"
   ]
  },
  {
   "cell_type": "markdown",
   "metadata": {},
   "source": [
    "We can see that the number of movies with correlation above 0.25 decreased."
   ]
  },
  {
   "cell_type": "code",
   "execution_count": 49,
   "metadata": {},
   "outputs": [
    {
     "data": {
      "text/plain": [
       "count    382.000000\n",
       "mean       0.091607\n",
       "std        0.361220\n",
       "min       -0.781818\n",
       "25%       -0.175758\n",
       "50%        0.090909\n",
       "75%        0.369697\n",
       "max        0.890909\n",
       "Name: corr, dtype: float64"
      ]
     },
     "execution_count": 49,
     "metadata": {},
     "output_type": "execute_result"
    }
   ],
   "source": [
    "tfidf_crew_corr['corr'].describe()"
   ]
  },
  {
   "cell_type": "code",
   "execution_count": 50,
   "metadata": {},
   "outputs": [
    {
     "data": {
      "text/plain": [
       "<AxesSubplot:xlabel='corr', ylabel='num_votes'>"
      ]
     },
     "execution_count": 50,
     "metadata": {},
     "output_type": "execute_result"
    },
    {
     "data": {
      "image/png": "[encoded data removed]",
      "text/plain": [
       "<Figure size 432x288 with 1 Axes>"
      ]
     },
     "metadata": {
      "needs_background": "light"
     },
     "output_type": "display_data"
    }
   ],
   "source": [
    "tfidf_crew_corr.plot.scatter(x='corr', y='num_votes')"
   ]
  },
  {
   "cell_type": "markdown",
   "metadata": {},
   "source": [
    "Again, popularity bias is not observed."
   ]
  },
  {
   "cell_type": "markdown",
   "metadata": {},
   "source": [
    "### Ranking with Content Embedding (Text + Crew + Cast)"
   ]
  },
  {
   "cell_type": "code",
   "execution_count": 51,
   "metadata": {},
   "outputs": [
    {
     "data": {
      "text/html": [
       "<div>\n",
       "<style scoped>\n",
       "    .dataframe tbody tr th:only-of-type {\n",
       "        vertical-align: middle;\n",
       "    }\n",
       "\n",
       "    .dataframe tbody tr th {\n",
       "        vertical-align: top;\n",
       "    }\n",
       "\n",
       "    .dataframe thead th {\n",
       "        text-align: right;\n",
       "    }\n",
       "</style>\n",
       "<table border=\"1\" class=\"dataframe\">\n",
       "  <thead>\n",
       "    <tr style=\"text-align: right;\">\n",
       "      <th></th>\n",
       "      <th>id_right</th>\n",
       "      <th>similarity</th>\n",
       "      <th>id_left</th>\n",
       "      <th>target</th>\n",
       "    </tr>\n",
       "  </thead>\n",
       "  <tbody>\n",
       "    <tr>\n",
       "      <th>0</th>\n",
       "      <td>4306</td>\n",
       "      <td>0.384327</td>\n",
       "      <td>2</td>\n",
       "      <td>0.240394</td>\n",
       "    </tr>\n",
       "    <tr>\n",
       "      <th>1</th>\n",
       "      <td>2716</td>\n",
       "      <td>0.223461</td>\n",
       "      <td>2</td>\n",
       "      <td>0.222825</td>\n",
       "    </tr>\n",
       "    <tr>\n",
       "      <th>2</th>\n",
       "      <td>364</td>\n",
       "      <td>0.164086</td>\n",
       "      <td>2</td>\n",
       "      <td>0.335812</td>\n",
       "    </tr>\n",
       "    <tr>\n",
       "      <th>3</th>\n",
       "      <td>736</td>\n",
       "      <td>0.158615</td>\n",
       "      <td>2</td>\n",
       "      <td>0.256185</td>\n",
       "    </tr>\n",
       "    <tr>\n",
       "      <th>4</th>\n",
       "      <td>2011</td>\n",
       "      <td>0.147242</td>\n",
       "      <td>2</td>\n",
       "      <td>0.248665</td>\n",
       "    </tr>\n",
       "  </tbody>\n",
       "</table>\n",
       "</div>"
      ],
      "text/plain": [
       "   id_right  similarity  id_left    target\n",
       "0      4306    0.384327        2  0.240394\n",
       "1      2716    0.223461        2  0.222825\n",
       "2       364    0.164086        2  0.335812\n",
       "3       736    0.158615        2  0.256185\n",
       "4      2011    0.147242        2  0.248665"
      ]
     },
     "execution_count": 51,
     "metadata": {},
     "output_type": "execute_result"
    }
   ],
   "source": [
    "tfidf_crew_cast_ranking = pd.read_csv('output/movie_ranking_tfidf_crew_cast.csv')\n",
    "tfidf_crew_cast_ranking.head()"
   ]
  },
  {
   "cell_type": "code",
   "execution_count": 52,
   "metadata": {},
   "outputs": [
    {
     "data": {
      "text/html": [
       "<div>\n",
       "<style scoped>\n",
       "    .dataframe tbody tr th:only-of-type {\n",
       "        vertical-align: middle;\n",
       "    }\n",
       "\n",
       "    .dataframe tbody tr th {\n",
       "        vertical-align: top;\n",
       "    }\n",
       "\n",
       "    .dataframe thead th {\n",
       "        text-align: right;\n",
       "    }\n",
       "</style>\n",
       "<table border=\"1\" class=\"dataframe\">\n",
       "  <thead>\n",
       "    <tr style=\"text-align: right;\">\n",
       "      <th></th>\n",
       "      <th>corr</th>\n",
       "      <th>num_votes</th>\n",
       "      <th>num_likes</th>\n",
       "      <th>avg_rating</th>\n",
       "    </tr>\n",
       "  </thead>\n",
       "  <tbody>\n",
       "    <tr>\n",
       "      <th>2</th>\n",
       "      <td>-0.175758</td>\n",
       "      <td>27138</td>\n",
       "      <td>12345.0</td>\n",
       "      <td>3.246499</td>\n",
       "    </tr>\n",
       "    <tr>\n",
       "      <th>21</th>\n",
       "      <td>0.454545</td>\n",
       "      <td>25699</td>\n",
       "      <td>14913.0</td>\n",
       "      <td>3.568368</td>\n",
       "    </tr>\n",
       "    <tr>\n",
       "      <th>34</th>\n",
       "      <td>-0.248485</td>\n",
       "      <td>35900</td>\n",
       "      <td>21916.0</td>\n",
       "      <td>3.613858</td>\n",
       "    </tr>\n",
       "    <tr>\n",
       "      <th>50</th>\n",
       "      <td>0.248485</td>\n",
       "      <td>62129</td>\n",
       "      <td>55297.0</td>\n",
       "      <td>4.292038</td>\n",
       "    </tr>\n",
       "    <tr>\n",
       "      <th>62</th>\n",
       "      <td>-0.406061</td>\n",
       "      <td>23348</td>\n",
       "      <td>14857.0</td>\n",
       "      <td>3.746595</td>\n",
       "    </tr>\n",
       "  </tbody>\n",
       "</table>\n",
       "</div>"
      ],
      "text/plain": [
       "        corr  num_votes  num_likes  avg_rating\n",
       "2  -0.175758      27138    12345.0    3.246499\n",
       "21  0.454545      25699    14913.0    3.568368\n",
       "34 -0.248485      35900    21916.0    3.613858\n",
       "50  0.248485      62129    55297.0    4.292038\n",
       "62 -0.406061      23348    14857.0    3.746595"
      ]
     },
     "execution_count": 52,
     "metadata": {},
     "output_type": "execute_result"
    }
   ],
   "source": [
    "tfidf_crew_cast_corr = spearman_corr(tfidf_crew_cast_ranking, 'similarity', 'target', 'id_left')\n",
    "tfidf_crew_cast_corr = tfidf_crew_cast_corr.join(ratings, how='inner')\n",
    "tfidf_crew_cast_corr.head()"
   ]
  },
  {
   "cell_type": "code",
   "execution_count": 53,
   "metadata": {},
   "outputs": [
    {
     "data": {
      "text/plain": [
       "<AxesSubplot:ylabel='Frequency'>"
      ]
     },
     "execution_count": 53,
     "metadata": {},
     "output_type": "execute_result"
    },
    {
     "data": {
      "image/png": "[encoded data removed]",
      "text/plain": [
       "<Figure size 432x288 with 1 Axes>"
      ]
     },
     "metadata": {
      "needs_background": "light"
     },
     "output_type": "display_data"
    }
   ],
   "source": [
    "tfidf_crew_cast_corr['corr'].plot.hist(bins=30)"
   ]
  },
  {
   "cell_type": "markdown",
   "metadata": {},
   "source": [
    "We can see that the number of movies with negative correlation increased."
   ]
  },
  {
   "cell_type": "code",
   "execution_count": 54,
   "metadata": {},
   "outputs": [
    {
     "data": {
      "text/plain": [
       "count    382.000000\n",
       "mean       0.019959\n",
       "std        0.344919\n",
       "min       -0.818182\n",
       "25%       -0.236364\n",
       "50%        0.012121\n",
       "75%        0.281818\n",
       "max        0.793939\n",
       "Name: corr, dtype: float64"
      ]
     },
     "execution_count": 54,
     "metadata": {},
     "output_type": "execute_result"
    }
   ],
   "source": [
    "tfidf_crew_cast_corr['corr'].describe()"
   ]
  },
  {
   "cell_type": "code",
   "execution_count": 55,
   "metadata": {},
   "outputs": [
    {
     "data": {
      "text/plain": [
       "<AxesSubplot:xlabel='corr', ylabel='num_votes'>"
      ]
     },
     "execution_count": 55,
     "metadata": {},
     "output_type": "execute_result"
    },
    {
     "data": {
      "image/png": "[encoded data removed]",
      "text/plain": [
       "<Figure size 432x288 with 1 Axes>"
      ]
     },
     "metadata": {
      "needs_background": "light"
     },
     "output_type": "display_data"
    }
   ],
   "source": [
    "tfidf_crew_cast_corr.plot.scatter(x='corr', y='num_votes')"
   ]
  },
  {
   "cell_type": "markdown",
   "metadata": {},
   "source": [
    "No popularity bias is present."
   ]
  },
  {
   "cell_type": "markdown",
   "metadata": {},
   "source": [
    "### Ranking with Collaborative Filtering Embedding"
   ]
  },
  {
   "cell_type": "code",
   "execution_count": 56,
   "metadata": {},
   "outputs": [
    {
     "data": {
      "text/html": [
       "<div>\n",
       "<style scoped>\n",
       "    .dataframe tbody tr th:only-of-type {\n",
       "        vertical-align: middle;\n",
       "    }\n",
       "\n",
       "    .dataframe tbody tr th {\n",
       "        vertical-align: top;\n",
       "    }\n",
       "\n",
       "    .dataframe thead th {\n",
       "        text-align: right;\n",
       "    }\n",
       "</style>\n",
       "<table border=\"1\" class=\"dataframe\">\n",
       "  <thead>\n",
       "    <tr style=\"text-align: right;\">\n",
       "      <th></th>\n",
       "      <th>id_right</th>\n",
       "      <th>similarity</th>\n",
       "      <th>id_left</th>\n",
       "      <th>target</th>\n",
       "    </tr>\n",
       "  </thead>\n",
       "  <tbody>\n",
       "    <tr>\n",
       "      <th>0</th>\n",
       "      <td>253</td>\n",
       "      <td>0.343631</td>\n",
       "      <td>2</td>\n",
       "      <td>0.237054</td>\n",
       "    </tr>\n",
       "    <tr>\n",
       "      <th>1</th>\n",
       "      <td>110</td>\n",
       "      <td>0.289399</td>\n",
       "      <td>2</td>\n",
       "      <td>0.242349</td>\n",
       "    </tr>\n",
       "    <tr>\n",
       "      <th>2</th>\n",
       "      <td>2011</td>\n",
       "      <td>0.279259</td>\n",
       "      <td>2</td>\n",
       "      <td>0.248665</td>\n",
       "    </tr>\n",
       "    <tr>\n",
       "      <th>3</th>\n",
       "      <td>165</td>\n",
       "      <td>0.244945</td>\n",
       "      <td>2</td>\n",
       "      <td>0.234542</td>\n",
       "    </tr>\n",
       "    <tr>\n",
       "      <th>4</th>\n",
       "      <td>1097</td>\n",
       "      <td>0.237925</td>\n",
       "      <td>2</td>\n",
       "      <td>0.233132</td>\n",
       "    </tr>\n",
       "  </tbody>\n",
       "</table>\n",
       "</div>"
      ],
      "text/plain": [
       "   id_right  similarity  id_left    target\n",
       "0       253    0.343631        2  0.237054\n",
       "1       110    0.289399        2  0.242349\n",
       "2      2011    0.279259        2  0.248665\n",
       "3       165    0.244945        2  0.234542\n",
       "4      1097    0.237925        2  0.233132"
      ]
     },
     "execution_count": 56,
     "metadata": {},
     "output_type": "execute_result"
    }
   ],
   "source": [
    "cb_ranking = pd.read_csv('output/movie_ranking_cb.csv')\n",
    "cb_ranking.head()"
   ]
  },
  {
   "cell_type": "code",
   "execution_count": 57,
   "metadata": {},
   "outputs": [
    {
     "data": {
      "text/html": [
       "<div>\n",
       "<style scoped>\n",
       "    .dataframe tbody tr th:only-of-type {\n",
       "        vertical-align: middle;\n",
       "    }\n",
       "\n",
       "    .dataframe tbody tr th {\n",
       "        vertical-align: top;\n",
       "    }\n",
       "\n",
       "    .dataframe thead th {\n",
       "        text-align: right;\n",
       "    }\n",
       "</style>\n",
       "<table border=\"1\" class=\"dataframe\">\n",
       "  <thead>\n",
       "    <tr style=\"text-align: right;\">\n",
       "      <th></th>\n",
       "      <th>corr</th>\n",
       "      <th>num_votes</th>\n",
       "      <th>num_likes</th>\n",
       "      <th>avg_rating</th>\n",
       "    </tr>\n",
       "  </thead>\n",
       "  <tbody>\n",
       "    <tr>\n",
       "      <th>2</th>\n",
       "      <td>-0.393939</td>\n",
       "      <td>27138</td>\n",
       "      <td>12345.0</td>\n",
       "      <td>3.246499</td>\n",
       "    </tr>\n",
       "    <tr>\n",
       "      <th>21</th>\n",
       "      <td>0.115152</td>\n",
       "      <td>25699</td>\n",
       "      <td>14913.0</td>\n",
       "      <td>3.568368</td>\n",
       "    </tr>\n",
       "    <tr>\n",
       "      <th>34</th>\n",
       "      <td>-0.151515</td>\n",
       "      <td>35900</td>\n",
       "      <td>21916.0</td>\n",
       "      <td>3.613858</td>\n",
       "    </tr>\n",
       "    <tr>\n",
       "      <th>50</th>\n",
       "      <td>-0.236364</td>\n",
       "      <td>62129</td>\n",
       "      <td>55297.0</td>\n",
       "      <td>4.292038</td>\n",
       "    </tr>\n",
       "    <tr>\n",
       "      <th>62</th>\n",
       "      <td>0.090909</td>\n",
       "      <td>23348</td>\n",
       "      <td>14857.0</td>\n",
       "      <td>3.746595</td>\n",
       "    </tr>\n",
       "  </tbody>\n",
       "</table>\n",
       "</div>"
      ],
      "text/plain": [
       "        corr  num_votes  num_likes  avg_rating\n",
       "2  -0.393939      27138    12345.0    3.246499\n",
       "21  0.115152      25699    14913.0    3.568368\n",
       "34 -0.151515      35900    21916.0    3.613858\n",
       "50 -0.236364      62129    55297.0    4.292038\n",
       "62  0.090909      23348    14857.0    3.746595"
      ]
     },
     "execution_count": 57,
     "metadata": {},
     "output_type": "execute_result"
    }
   ],
   "source": [
    "cb_corr = spearman_corr(cb_ranking, 'similarity', 'target', 'id_left')\n",
    "cb_corr = cb_corr.join(ratings, how='inner')\n",
    "cb_corr.head()"
   ]
  },
  {
   "cell_type": "code",
   "execution_count": 58,
   "metadata": {},
   "outputs": [
    {
     "data": {
      "text/plain": [
       "<AxesSubplot:ylabel='Frequency'>"
      ]
     },
     "execution_count": 58,
     "metadata": {},
     "output_type": "execute_result"
    },
    {
     "data": {
      "image/png": "[encoded data removed]",
      "text/plain": [
       "<Figure size 432x288 with 1 Axes>"
      ]
     },
     "metadata": {
      "needs_background": "light"
     },
     "output_type": "display_data"
    }
   ],
   "source": [
    "cb_corr['corr'].plot.hist(bins=30)"
   ]
  },
  {
   "cell_type": "markdown",
   "metadata": {},
   "source": [
    "We see more negative values than positive ones. It's a surprise, since collaborative filtering learns user interactions. We are expecting a result more correlated with the ranking by user similarity. One reason could be the inclusion of negative interactions (dislikes) in the collaborative filtering factorization."
   ]
  },
  {
   "cell_type": "code",
   "execution_count": 59,
   "metadata": {},
   "outputs": [
    {
     "data": {
      "text/plain": [
       "count    382.000000\n",
       "mean      -0.007711\n",
       "std        0.354699\n",
       "min       -0.854545\n",
       "25%       -0.260606\n",
       "50%       -0.018182\n",
       "75%        0.269697\n",
       "max        0.793939\n",
       "Name: corr, dtype: float64"
      ]
     },
     "execution_count": 59,
     "metadata": {},
     "output_type": "execute_result"
    }
   ],
   "source": [
    "cb_corr['corr'].describe()"
   ]
  },
  {
   "cell_type": "code",
   "execution_count": 60,
   "metadata": {},
   "outputs": [
    {
     "data": {
      "text/plain": [
       "<AxesSubplot:xlabel='corr', ylabel='num_votes'>"
      ]
     },
     "execution_count": 60,
     "metadata": {},
     "output_type": "execute_result"
    },
    {
     "data": {
      "image/png": "[encoded data removed]",
      "text/plain": [
       "<Figure size 432x288 with 1 Axes>"
      ]
     },
     "metadata": {
      "needs_background": "light"
     },
     "output_type": "display_data"
    }
   ],
   "source": [
    "cb_corr.plot.scatter(x='corr', y='num_votes')"
   ]
  },
  {
   "cell_type": "markdown",
   "metadata": {},
   "source": [
    "No popularity bias was found, indicating that the bias term in factorization algorithm was fitted properly."
   ]
  },
  {
   "cell_type": "markdown",
   "metadata": {},
   "source": [
    "### Comparing Ranking Performance"
   ]
  },
  {
   "cell_type": "code",
   "execution_count": 61,
   "metadata": {},
   "outputs": [
    {
     "data": {
      "image/png": "[encoded data removed]",
      "text/plain": [
       "<Figure size 640x480 with 1 Axes>"
      ]
     },
     "metadata": {},
     "output_type": "display_data"
    }
   ],
   "source": [
    "tfidf_corr['embedding'] = 'tfidf'\n",
    "tfidf_crew_corr['embedding'] = 'tfidf_crew'\n",
    "tfidf_crew_cast_corr['embedding'] = 'tfidf_crew_cast'\n",
    "cb_corr['embedding'] = 'cb'\n",
    "\n",
    "cols = ['embedding', 'corr']\n",
    "dfs = [tfidf_corr[cols], tfidf_crew_corr[cols], tfidf_crew_cast_corr[cols], cb_corr[cols]]\n",
    "corr = pd.concat(dfs, ignore_index=True).dropna()\n",
    "corr['embedding'] = corr['embedding'].astype('category')\n",
    "\n",
    "g = ggplot(corr, aes(x='embedding', y='corr', color='embedding', fill='embedding')) +\\\n",
    "    geom_violin(alpha=0.6) +\\\n",
    "    scale_y_continuous(breaks=[-1.0, -0.75, -0.5, -0.25, 0, 0.25, 0.5, 0.75, 1.0], limits=[-1, 1])\n",
    "g = g.draw()"
   ]
  },
  {
   "cell_type": "markdown",
   "metadata": {},
   "source": [
    "We can observe that text embedding performed a little bit better, but there is a large overlapping between the distributions. So, there is no strong evidence of difference between methods."
   ]
  },
  {
   "cell_type": "code",
   "execution_count": 62,
   "metadata": {},
   "outputs": [
    {
     "data": {
      "text/plain": [
       "<AxesSubplot:xlabel='cb_corr', ylabel='tfidf_corr'>"
      ]
     },
     "execution_count": 62,
     "metadata": {},
     "output_type": "execute_result"
    },
    {
     "data": {
      "image/png": "[encoded data removed]",
      "text/plain": [
       "<Figure size 432x288 with 1 Axes>"
      ]
     },
     "metadata": {
      "needs_background": "light"
     },
     "output_type": "display_data"
    }
   ],
   "source": [
    "tfidf_cb_corr = tfidf_corr[['corr']].rename(columns={'corr':'tfidf_corr'}).join(\n",
    "    cb_corr[['corr']].rename(columns={'corr':'cb_corr'}), how='inner'\n",
    ")\n",
    "tfidf_cb_corr.plot.scatter(x='cb_corr', y='tfidf_corr')"
   ]
  },
  {
   "cell_type": "markdown",
   "metadata": {},
   "source": [
    "In addition, we can observe that there is no strong correlation between text embedding and collaborative filtering embedding. It may be a indicative that both methods are complementary. So, combining than can provide a even better performance."
   ]
  },
  {
   "cell_type": "code",
   "execution_count": 63,
   "metadata": {},
   "outputs": [
    {
     "data": {
      "text/plain": [
       "<AxesSubplot:xlabel='tfidf_corr', ylabel='tfidf_crew_corr'>"
      ]
     },
     "execution_count": 63,
     "metadata": {},
     "output_type": "execute_result"
    },
    {
     "data": {
      "image/png": "[encoded data removed]",
      "text/plain": [
       "<Figure size 432x288 with 1 Axes>"
      ]
     },
     "metadata": {
      "needs_background": "light"
     },
     "output_type": "display_data"
    }
   ],
   "source": [
    "content_corr = tfidf_corr[['corr']].rename(columns={'corr':'tfidf_corr'}).join(\n",
    "    tfidf_crew_corr[['corr']].rename(columns={'corr':'tfidf_crew_corr'}), how='inner'\n",
    ")\n",
    "content_corr.plot.scatter(x='tfidf_corr', y='tfidf_crew_corr')"
   ]
  },
  {
   "cell_type": "markdown",
   "metadata": {},
   "source": [
    "If we compare content based methods, we observe a stronger correlation. Let's check it numerically:"
   ]
  },
  {
   "cell_type": "code",
   "execution_count": 65,
   "metadata": {},
   "outputs": [
    {
     "data": {
      "text/plain": [
       "(0.2214131380567743, 1.2560464682861095e-05)"
      ]
     },
     "execution_count": 65,
     "metadata": {},
     "output_type": "execute_result"
    }
   ],
   "source": [
    "from scipy.stats import pearsonr\n",
    "\n",
    "pearsonr(tfidf_cb_corr['tfidf_corr'], tfidf_cb_corr['cb_corr'])"
   ]
  },
  {
   "cell_type": "code",
   "execution_count": 67,
   "metadata": {},
   "outputs": [
    {
     "data": {
      "text/plain": [
       "(0.7216452817938481, 1.1361322483897958e-62)"
      ]
     },
     "execution_count": 67,
     "metadata": {},
     "output_type": "execute_result"
    }
   ],
   "source": [
    "pearsonr(content_corr['tfidf_corr'], content_corr['tfidf_crew_corr'])"
   ]
  },
  {
   "cell_type": "markdown",
   "metadata": {},
   "source": [
    "## Precision and Recall at K\n",
    "\n",
    "Another way to check ranking performance is to transform the problem into a classical binary classification problem, so that we can take advantage of better known metrics. Precision and recall are the most common ones.\n",
    "\n",
    "First of all we must label some items as 'relevant'. Than, we look for relavant items in the top K positions of the ranking. K in [5,10] are common choices. Here we will choose k=10.\n",
    "\n",
    "Precision is given by the number of relevant items in the top K divided by K. In other words, it measures the proportion of the top K items that are relevant. Recall is given by the number of relevant items in the top K divided by the total number of relevant items. In other words, it measures the proportion of relevant items that are in the top K items.\n",
    "\n",
    "### Defining Relevant Items"
   ]
  },
  {
   "cell_type": "code",
   "execution_count": 25,
   "metadata": {},
   "outputs": [
    {
     "data": {
      "text/html": [
       "<div>\n",
       "<style scoped>\n",
       "    .dataframe tbody tr th:only-of-type {\n",
       "        vertical-align: middle;\n",
       "    }\n",
       "\n",
       "    .dataframe tbody tr th {\n",
       "        vertical-align: top;\n",
       "    }\n",
       "\n",
       "    .dataframe thead th {\n",
       "        text-align: right;\n",
       "    }\n",
       "</style>\n",
       "<table border=\"1\" class=\"dataframe\">\n",
       "  <thead>\n",
       "    <tr style=\"text-align: right;\">\n",
       "      <th></th>\n",
       "      <th>id_left</th>\n",
       "      <th>id_right</th>\n",
       "      <th>similarity</th>\n",
       "    </tr>\n",
       "  </thead>\n",
       "  <tbody>\n",
       "    <tr>\n",
       "      <th>0</th>\n",
       "      <td>2</td>\n",
       "      <td>364</td>\n",
       "      <td>0.335812</td>\n",
       "    </tr>\n",
       "    <tr>\n",
       "      <th>1</th>\n",
       "      <td>2</td>\n",
       "      <td>480</td>\n",
       "      <td>0.317939</td>\n",
       "    </tr>\n",
       "    <tr>\n",
       "      <th>2</th>\n",
       "      <td>2</td>\n",
       "      <td>367</td>\n",
       "      <td>0.314605</td>\n",
       "    </tr>\n",
       "    <tr>\n",
       "      <th>3</th>\n",
       "      <td>2</td>\n",
       "      <td>588</td>\n",
       "      <td>0.298155</td>\n",
       "    </tr>\n",
       "    <tr>\n",
       "      <th>4</th>\n",
       "      <td>2</td>\n",
       "      <td>589</td>\n",
       "      <td>0.263034</td>\n",
       "    </tr>\n",
       "  </tbody>\n",
       "</table>\n",
       "</div>"
      ],
      "text/plain": [
       "   id_left  id_right  similarity\n",
       "0        2       364    0.335812\n",
       "1        2       480    0.317939\n",
       "2        2       367    0.314605\n",
       "3        2       588    0.298155\n",
       "4        2       589    0.263034"
      ]
     },
     "execution_count": 25,
     "metadata": {},
     "output_type": "execute_result"
    }
   ],
   "source": [
    "movie_sim = pd.read_csv('output/movie_similarity.csv', usecols=['id_left','id_right','similarity'])\n",
    "movie_sim.head()"
   ]
  },
  {
   "cell_type": "code",
   "execution_count": 26,
   "metadata": {},
   "outputs": [
    {
     "data": {
      "text/plain": [
       "<AxesSubplot:ylabel='Frequency'>"
      ]
     },
     "execution_count": 26,
     "metadata": {},
     "output_type": "execute_result"
    },
    {
     "data": {
      "image/png": "[encoded data removed]",
      "text/plain": [
       "<Figure size 432x288 with 1 Axes>"
      ]
     },
     "metadata": {
      "needs_background": "light"
     },
     "output_type": "display_data"
    }
   ],
   "source": [
    "movie_sim['similarity'].plot.hist(bins=30)"
   ]
  },
  {
   "cell_type": "markdown",
   "metadata": {},
   "source": [
    "We can define a threshold for the user correlation similarity to label items as relevant or not."
   ]
  },
  {
   "cell_type": "code",
   "execution_count": 27,
   "metadata": {},
   "outputs": [
    {
     "data": {
      "text/plain": [
       "<AxesSubplot:ylabel='Frequency'>"
      ]
     },
     "execution_count": 27,
     "metadata": {},
     "output_type": "execute_result"
    },
    {
     "data": {
      "image/png": "[encoded data removed]",
      "text/plain": [
       "<Figure size 432x288 with 1 Axes>"
      ]
     },
     "metadata": {
      "needs_background": "light"
     },
     "output_type": "display_data"
    }
   ],
   "source": [
    "movie_sim.groupby('id_left').agg(\n",
    "    similarity=('similarity', lambda x: x.quantile(0.5))\n",
    ").plot.hist(bins=30)"
   ]
  },
  {
   "cell_type": "code",
   "execution_count": 28,
   "metadata": {},
   "outputs": [
    {
     "data": {
      "text/plain": [
       "<AxesSubplot:ylabel='Frequency'>"
      ]
     },
     "execution_count": 28,
     "metadata": {},
     "output_type": "execute_result"
    },
    {
     "data": {
      "image/png": "[encoded data removed]",
      "text/plain": [
       "<Figure size 432x288 with 1 Axes>"
      ]
     },
     "metadata": {
      "needs_background": "light"
     },
     "output_type": "display_data"
    }
   ],
   "source": [
    "movie_sim.groupby('id_left').agg(\n",
    "    similarity=('similarity', lambda x: x.quantile(0.75))\n",
    ").plot.hist(bins=30)"
   ]
  },
  {
   "cell_type": "markdown",
   "metadata": {},
   "source": [
    "Here we will user 0.3 as the threshold, so that movies with user correlation greater than or equal 0.3 will be considered relevant similars to the target movie."
   ]
  },
  {
   "cell_type": "code",
   "execution_count": 29,
   "metadata": {},
   "outputs": [],
   "source": [
    "movie_sim['relevant'] = np.where(movie_sim['similarity'] >= 0.3, 1.0, 0.0)"
   ]
  },
  {
   "cell_type": "code",
   "execution_count": 30,
   "metadata": {},
   "outputs": [
    {
     "data": {
      "text/plain": [
       "<AxesSubplot:ylabel='Frequency'>"
      ]
     },
     "execution_count": 30,
     "metadata": {},
     "output_type": "execute_result"
    },
    {
     "data": {
      "image/png": "[encoded data removed]",
      "text/plain": [
       "<Figure size 432x288 with 1 Axes>"
      ]
     },
     "metadata": {
      "needs_background": "light"
     },
     "output_type": "display_data"
    }
   ],
   "source": [
    "movie_sim.groupby('id_left').agg(\n",
    "    num_relevants=('relevant', 'sum')\n",
    ").plot.hist(bins=30)"
   ]
  },
  {
   "cell_type": "code",
   "execution_count": 31,
   "metadata": {},
   "outputs": [
    {
     "name": "stdout",
     "output_type": "stream",
     "text": [
      "(12480, 5)\n",
      "(5280, 2)\n"
     ]
    }
   ],
   "source": [
    "movie_sim['num_relevants'] = movie_sim.groupby('id_left')['relevant'].transform('sum')\n",
    "print(movie_sim.shape)\n",
    "\n",
    "movie_sim = movie_sim[movie_sim['num_relevants'] >= 3].drop('similarity', axis=1)\n",
    "ids = movie_sim['id_left'].unique()\n",
    "movie_sim.set_index(['id_left','id_right'], inplace=True)\n",
    "print(movie_sim.shape)"
   ]
  },
  {
   "cell_type": "markdown",
   "metadata": {},
   "source": [
    "To make a better evaluation we will consider only those target movies with 3 or more relevant similars.\n",
    "\n",
    "### Text Embedding Performance"
   ]
  },
  {
   "cell_type": "code",
   "execution_count": 32,
   "metadata": {},
   "outputs": [
    {
     "data": {
      "text/plain": [
       "0.0    5141\n",
       "1.0      79\n",
       "Name: relevant, dtype: int64"
      ]
     },
     "execution_count": 32,
     "metadata": {},
     "output_type": "execute_result"
    }
   ],
   "source": [
    "tfidf_sim = pd.read_csv('output/movie_similarity_tfidf.csv')\n",
    "tfidf_sim = tfidf_sim[tfidf_sim['id_left'].isin(ids)]\n",
    "tfidf_sim.set_index(['id_left','id_right'], inplace=True)\n",
    "tfidf_sim = tfidf_sim.join(movie_sim, how='left')\n",
    "tfidf_sim.fillna(0.0, inplace=True)\n",
    "tfidf_sim.reset_index(drop=False, inplace=True)\n",
    "\n",
    "tfidf_sim['relevant'].value_counts()"
   ]
  },
  {
   "cell_type": "code",
   "execution_count": 33,
   "metadata": {},
   "outputs": [
    {
     "data": {
      "text/plain": [
       "count    174.000000\n",
       "mean       0.016667\n",
       "std        0.057985\n",
       "min        0.000000\n",
       "25%        0.000000\n",
       "50%        0.000000\n",
       "75%        0.000000\n",
       "max        0.400000\n",
       "Name: precision, dtype: float64"
      ]
     },
     "execution_count": 33,
     "metadata": {},
     "output_type": "execute_result"
    }
   ],
   "source": [
    "tfidf_pr = precision_recall(tfidf_sim, 'similarity', 'relevant', 'id_left')\n",
    "tfidf_pr['precision'].describe()"
   ]
  },
  {
   "cell_type": "code",
   "execution_count": 34,
   "metadata": {},
   "outputs": [
    {
     "data": {
      "text/plain": [
       "count    174.000000\n",
       "mean       0.061658\n",
       "std        0.191476\n",
       "min        0.000000\n",
       "25%        0.000000\n",
       "50%        0.000000\n",
       "75%        0.000000\n",
       "max        1.000000\n",
       "Name: recall, dtype: float64"
      ]
     },
     "execution_count": 34,
     "metadata": {},
     "output_type": "execute_result"
    }
   ],
   "source": [
    "tfidf_pr['recall'].describe()"
   ]
  },
  {
   "cell_type": "markdown",
   "metadata": {},
   "source": [
    "The results are very bad! In general, the relevant movies are not appearing in the top 10 given by the embedding ranking.\n",
    "\n",
    "### Collaborative Filtering Performance"
   ]
  },
  {
   "cell_type": "code",
   "execution_count": 35,
   "metadata": {},
   "outputs": [
    {
     "data": {
      "text/plain": [
       "0.0    5197\n",
       "1.0      23\n",
       "Name: relevant, dtype: int64"
      ]
     },
     "execution_count": 35,
     "metadata": {},
     "output_type": "execute_result"
    }
   ],
   "source": [
    "cb_sim = pd.read_csv('output/movie_similarity_cb.csv')\n",
    "cb_sim = cb_sim[cb_sim['id_left'].isin(ids)]\n",
    "cb_sim.set_index(['id_left','id_right'], inplace=True)\n",
    "cb_sim = cb_sim.join(movie_sim, how='left')\n",
    "cb_sim.fillna(0.0, inplace=True)\n",
    "cb_sim.reset_index(drop=False, inplace=True)\n",
    "\n",
    "cb_sim['relevant'].value_counts()"
   ]
  },
  {
   "cell_type": "code",
   "execution_count": 36,
   "metadata": {},
   "outputs": [
    {
     "data": {
      "text/plain": [
       "count    174.000000\n",
       "mean       0.007471\n",
       "std        0.030439\n",
       "min        0.000000\n",
       "25%        0.000000\n",
       "50%        0.000000\n",
       "75%        0.000000\n",
       "max        0.200000\n",
       "Name: precision, dtype: float64"
      ]
     },
     "execution_count": 36,
     "metadata": {},
     "output_type": "execute_result"
    }
   ],
   "source": [
    "cb_pr = precision_recall(cb_sim, 'similarity', 'relevant', 'id_left')\n",
    "cb_pr['precision'].describe()"
   ]
  },
  {
   "cell_type": "code",
   "execution_count": 37,
   "metadata": {},
   "outputs": [
    {
     "data": {
      "text/plain": [
       "count    174.000000\n",
       "mean       0.048851\n",
       "std        0.199571\n",
       "min        0.000000\n",
       "25%        0.000000\n",
       "50%        0.000000\n",
       "75%        0.000000\n",
       "max        1.000000\n",
       "Name: recall, dtype: float64"
      ]
     },
     "execution_count": 37,
     "metadata": {},
     "output_type": "execute_result"
    }
   ],
   "source": [
    "cb_pr['recall'].describe()"
   ]
  },
  {
   "cell_type": "markdown",
   "metadata": {},
   "source": [
    "The same bad results for the Collaborative Filtering.\n",
    "\n",
    "But it is not a problem, since the user correlation similarity is just a reference for us. In the previous tests we saw interesting recommendations given by embedding similarity. We had to choose a method to compare with and we tried a reference that provides good recommendations, but is sparse (you need users in common to link a pair of movies) and very expensive to compute. Maybe a method based on the most popular movies (always recommend the most popular movies) could provide a better reference.\n",
    "\n",
    "Anyway, in the recommendation dashboard we will see good results for the embedding methods."
   ]
  }
 ],
 "metadata": {
  "kernelspec": {
   "display_name": "Python 3",
   "language": "python",
   "name": "python3"
  },
  "language_info": {
   "codemirror_mode": {
    "name": "ipython",
    "version": 3
   },
   "file_extension": ".py",
   "mimetype": "text/x-python",
   "name": "python",
   "nbconvert_exporter": "python",
   "pygments_lexer": "ipython3",
   "version": "3.7.9"
  }
 },
 "nbformat": 4,
 "nbformat_minor": 4
}
