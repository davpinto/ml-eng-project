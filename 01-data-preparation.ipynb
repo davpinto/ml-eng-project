{
 "cells": [
  {
   "cell_type": "markdown",
   "metadata": {},
   "source": [
    "# Data Preparation\n",
    "\n",
    "This notebook is a pre-work step that prepares data to be used in the project."
   ]
  },
  {
   "cell_type": "code",
   "execution_count": 1,
   "metadata": {},
   "outputs": [],
   "source": [
    "from ast import literal_eval\n",
    "\n",
    "import pandas as pd"
   ]
  },
  {
   "cell_type": "markdown",
   "metadata": {},
   "source": [
    "## Movie IDs\n",
    "\n",
    "To combine MovieLens with TMBD we need the movie ids for both datasets. We will use the MovieLens ID as the main identifier."
   ]
  },
  {
   "cell_type": "code",
   "execution_count": 2,
   "metadata": {},
   "outputs": [
    {
     "data": {
      "text/html": [
       "<div>\n",
       "<style scoped>\n",
       "    .dataframe tbody tr th:only-of-type {\n",
       "        vertical-align: middle;\n",
       "    }\n",
       "\n",
       "    .dataframe tbody tr th {\n",
       "        vertical-align: top;\n",
       "    }\n",
       "\n",
       "    .dataframe thead th {\n",
       "        text-align: right;\n",
       "    }\n",
       "</style>\n",
       "<table border=\"1\" class=\"dataframe\">\n",
       "  <thead>\n",
       "    <tr style=\"text-align: right;\">\n",
       "      <th></th>\n",
       "      <th>id</th>\n",
       "    </tr>\n",
       "    <tr>\n",
       "      <th>tmdb_id</th>\n",
       "      <th></th>\n",
       "    </tr>\n",
       "  </thead>\n",
       "  <tbody>\n",
       "    <tr>\n",
       "      <th>862</th>\n",
       "      <td>1</td>\n",
       "    </tr>\n",
       "    <tr>\n",
       "      <th>8844</th>\n",
       "      <td>2</td>\n",
       "    </tr>\n",
       "    <tr>\n",
       "      <th>15602</th>\n",
       "      <td>3</td>\n",
       "    </tr>\n",
       "    <tr>\n",
       "      <th>31357</th>\n",
       "      <td>4</td>\n",
       "    </tr>\n",
       "    <tr>\n",
       "      <th>11862</th>\n",
       "      <td>5</td>\n",
       "    </tr>\n",
       "  </tbody>\n",
       "</table>\n",
       "</div>"
      ],
      "text/plain": [
       "         id\n",
       "tmdb_id    \n",
       "862       1\n",
       "8844      2\n",
       "15602     3\n",
       "31357     4\n",
       "11862     5"
      ]
     },
     "execution_count": 2,
     "metadata": {},
     "output_type": "execute_result"
    }
   ],
   "source": [
    "links = pd.read_csv('data/raw/links.csv', usecols=['movieId','tmdbId'])\n",
    "links.rename(columns={'movieId':'id','tmdbId':'tmdb_id'}, inplace=True)\n",
    "links['tmdb_id'] = links['tmdb_id'].astype('Int64')\n",
    "links.set_index('tmdb_id', inplace=True)\n",
    "links.head()"
   ]
  },
  {
   "cell_type": "markdown",
   "metadata": {},
   "source": [
    "## Extract Movie Cast & Crew\n",
    "\n",
    "We need to put cast&crew info in a relational format. The dataset presents it in a JSON format.\n",
    "\n",
    "### Cast\n",
    "\n",
    "Extract actor ID for each movie. We will consider only those actors present in at least 10 movies."
   ]
  },
  {
   "cell_type": "code",
   "execution_count": 3,
   "metadata": {},
   "outputs": [
    {
     "data": {
      "text/html": [
       "<div>\n",
       "<style scoped>\n",
       "    .dataframe tbody tr th:only-of-type {\n",
       "        vertical-align: middle;\n",
       "    }\n",
       "\n",
       "    .dataframe tbody tr th {\n",
       "        vertical-align: top;\n",
       "    }\n",
       "\n",
       "    .dataframe thead th {\n",
       "        text-align: right;\n",
       "    }\n",
       "</style>\n",
       "<table border=\"1\" class=\"dataframe\">\n",
       "  <thead>\n",
       "    <tr style=\"text-align: right;\">\n",
       "      <th></th>\n",
       "      <th>cast</th>\n",
       "      <th>crew</th>\n",
       "      <th>id</th>\n",
       "    </tr>\n",
       "  </thead>\n",
       "  <tbody>\n",
       "    <tr>\n",
       "      <th>0</th>\n",
       "      <td>[{'cast_id': 3, 'character': 'Taisto Olavi Kas...</td>\n",
       "      <td>[{'credit_id': '52fe420dc3a36847f800001f', 'de...</td>\n",
       "      <td>4470</td>\n",
       "    </tr>\n",
       "    <tr>\n",
       "      <th>1</th>\n",
       "      <td>[{'cast_id': 5, 'character': 'Nikander', 'cred...</td>\n",
       "      <td>[{'credit_id': '52fe420dc3a36847f8000077', 'de...</td>\n",
       "      <td>61724</td>\n",
       "    </tr>\n",
       "    <tr>\n",
       "      <th>2</th>\n",
       "      <td>[{'cast_id': 42, 'character': 'Ted the Bellhop...</td>\n",
       "      <td>[{'credit_id': '52fe420dc3a36847f800011b', 'de...</td>\n",
       "      <td>18</td>\n",
       "    </tr>\n",
       "    <tr>\n",
       "      <th>3</th>\n",
       "      <td>[{'cast_id': 7, 'character': 'Frank Wyatt', 'c...</td>\n",
       "      <td>[{'credit_id': '52fe420dc3a36847f800023d', 'de...</td>\n",
       "      <td>479</td>\n",
       "    </tr>\n",
       "    <tr>\n",
       "      <th>4</th>\n",
       "      <td>[{'cast_id': 3, 'character': 'Luke Skywalker',...</td>\n",
       "      <td>[{'credit_id': '52fe420dc3a36847f8000437', 'de...</td>\n",
       "      <td>260</td>\n",
       "    </tr>\n",
       "  </tbody>\n",
       "</table>\n",
       "</div>"
      ],
      "text/plain": [
       "                                                cast  \\\n",
       "0  [{'cast_id': 3, 'character': 'Taisto Olavi Kas...   \n",
       "1  [{'cast_id': 5, 'character': 'Nikander', 'cred...   \n",
       "2  [{'cast_id': 42, 'character': 'Ted the Bellhop...   \n",
       "3  [{'cast_id': 7, 'character': 'Frank Wyatt', 'c...   \n",
       "4  [{'cast_id': 3, 'character': 'Luke Skywalker',...   \n",
       "\n",
       "                                                crew     id  \n",
       "0  [{'credit_id': '52fe420dc3a36847f800001f', 'de...   4470  \n",
       "1  [{'credit_id': '52fe420dc3a36847f8000077', 'de...  61724  \n",
       "2  [{'credit_id': '52fe420dc3a36847f800011b', 'de...     18  \n",
       "3  [{'credit_id': '52fe420dc3a36847f800023d', 'de...    479  \n",
       "4  [{'credit_id': '52fe420dc3a36847f8000437', 'de...    260  "
      ]
     },
     "execution_count": 3,
     "metadata": {},
     "output_type": "execute_result"
    }
   ],
   "source": [
    "credits = pd.read_csv('data/raw/credits.csv')\n",
    "credits.rename(columns={'id':'tmdb_id'}, inplace=True)\n",
    "credits['tmdb_id'] = credits['tmdb_id'].astype('Int64')\n",
    "credits.set_index('tmdb_id', inplace=True)\n",
    "credits = credits.join(links, how='inner').reset_index(drop=True)\n",
    "credits.head()"
   ]
  },
  {
   "cell_type": "code",
   "execution_count": 4,
   "metadata": {},
   "outputs": [
    {
     "data": {
      "text/html": [
       "<div>\n",
       "<style scoped>\n",
       "    .dataframe tbody tr th:only-of-type {\n",
       "        vertical-align: middle;\n",
       "    }\n",
       "\n",
       "    .dataframe tbody tr th {\n",
       "        vertical-align: top;\n",
       "    }\n",
       "\n",
       "    .dataframe thead th {\n",
       "        text-align: right;\n",
       "    }\n",
       "</style>\n",
       "<table border=\"1\" class=\"dataframe\">\n",
       "  <thead>\n",
       "    <tr style=\"text-align: right;\">\n",
       "      <th></th>\n",
       "      <th>cast_id</th>\n",
       "      <th>character</th>\n",
       "      <th>credit_id</th>\n",
       "      <th>gender</th>\n",
       "      <th>id</th>\n",
       "      <th>name</th>\n",
       "      <th>order</th>\n",
       "      <th>profile_path</th>\n",
       "    </tr>\n",
       "  </thead>\n",
       "  <tbody>\n",
       "    <tr>\n",
       "      <th>0</th>\n",
       "      <td>3</td>\n",
       "      <td>Taisto Olavi Kasurinen</td>\n",
       "      <td>52fe420dc3a36847f8000029</td>\n",
       "      <td>0</td>\n",
       "      <td>54768</td>\n",
       "      <td>Turo Pajala</td>\n",
       "      <td>0</td>\n",
       "      <td>None</td>\n",
       "    </tr>\n",
       "    <tr>\n",
       "      <th>1</th>\n",
       "      <td>4</td>\n",
       "      <td>Irmeli Katariina Pihlaja</td>\n",
       "      <td>52fe420dc3a36847f800002d</td>\n",
       "      <td>0</td>\n",
       "      <td>54769</td>\n",
       "      <td>Susanna Haavisto</td>\n",
       "      <td>1</td>\n",
       "      <td>None</td>\n",
       "    </tr>\n",
       "    <tr>\n",
       "      <th>2</th>\n",
       "      <td>5</td>\n",
       "      <td>Mikkonen</td>\n",
       "      <td>52fe420dc3a36847f8000031</td>\n",
       "      <td>2</td>\n",
       "      <td>4826</td>\n",
       "      <td>Matti Pellonpää</td>\n",
       "      <td>2</td>\n",
       "      <td>/7WuLvkuWphUAtW6QQwtF3WrwUKE.jpg</td>\n",
       "    </tr>\n",
       "    <tr>\n",
       "      <th>3</th>\n",
       "      <td>6</td>\n",
       "      <td>Riku</td>\n",
       "      <td>52fe420dc3a36847f8000035</td>\n",
       "      <td>0</td>\n",
       "      <td>54770</td>\n",
       "      <td>Eetu Hilkamo</td>\n",
       "      <td>3</td>\n",
       "      <td>None</td>\n",
       "    </tr>\n",
       "  </tbody>\n",
       "</table>\n",
       "</div>"
      ],
      "text/plain": [
       "   cast_id                 character                 credit_id  gender     id  \\\n",
       "0        3    Taisto Olavi Kasurinen  52fe420dc3a36847f8000029       0  54768   \n",
       "1        4  Irmeli Katariina Pihlaja  52fe420dc3a36847f800002d       0  54769   \n",
       "2        5                  Mikkonen  52fe420dc3a36847f8000031       2   4826   \n",
       "3        6                      Riku  52fe420dc3a36847f8000035       0  54770   \n",
       "\n",
       "               name  order                      profile_path  \n",
       "0       Turo Pajala      0                              None  \n",
       "1  Susanna Haavisto      1                              None  \n",
       "2   Matti Pellonpää      2  /7WuLvkuWphUAtW6QQwtF3WrwUKE.jpg  \n",
       "3      Eetu Hilkamo      3                              None  "
      ]
     },
     "execution_count": 4,
     "metadata": {},
     "output_type": "execute_result"
    }
   ],
   "source": [
    "pd.DataFrame.from_dict(literal_eval(credits.cast[0]))"
   ]
  },
  {
   "cell_type": "code",
   "execution_count": 5,
   "metadata": {},
   "outputs": [
    {
     "name": "stdout",
     "output_type": "stream",
     "text": [
      "CPU times: user 2min 34s, sys: 328 ms, total: 2min 34s\n",
      "Wall time: 2min 34s\n"
     ]
    },
    {
     "data": {
      "text/html": [
       "<div>\n",
       "<style scoped>\n",
       "    .dataframe tbody tr th:only-of-type {\n",
       "        vertical-align: middle;\n",
       "    }\n",
       "\n",
       "    .dataframe tbody tr th {\n",
       "        vertical-align: top;\n",
       "    }\n",
       "\n",
       "    .dataframe thead th {\n",
       "        text-align: right;\n",
       "    }\n",
       "</style>\n",
       "<table border=\"1\" class=\"dataframe\">\n",
       "  <thead>\n",
       "    <tr style=\"text-align: right;\">\n",
       "      <th></th>\n",
       "      <th>actor_id</th>\n",
       "      <th>actor_name</th>\n",
       "      <th>id</th>\n",
       "    </tr>\n",
       "  </thead>\n",
       "  <tbody>\n",
       "    <tr>\n",
       "      <th>0</th>\n",
       "      <td>54768</td>\n",
       "      <td>Turo Pajala</td>\n",
       "      <td>4470</td>\n",
       "    </tr>\n",
       "    <tr>\n",
       "      <th>1</th>\n",
       "      <td>54769</td>\n",
       "      <td>Susanna Haavisto</td>\n",
       "      <td>4470</td>\n",
       "    </tr>\n",
       "    <tr>\n",
       "      <th>2</th>\n",
       "      <td>4826</td>\n",
       "      <td>Matti Pellonpää</td>\n",
       "      <td>4470</td>\n",
       "    </tr>\n",
       "    <tr>\n",
       "      <th>3</th>\n",
       "      <td>54770</td>\n",
       "      <td>Eetu Hilkamo</td>\n",
       "      <td>4470</td>\n",
       "    </tr>\n",
       "    <tr>\n",
       "      <th>4</th>\n",
       "      <td>4826</td>\n",
       "      <td>Matti Pellonpää</td>\n",
       "      <td>61724</td>\n",
       "    </tr>\n",
       "  </tbody>\n",
       "</table>\n",
       "</div>"
      ],
      "text/plain": [
       "   actor_id        actor_name     id\n",
       "0     54768       Turo Pajala   4470\n",
       "1     54769  Susanna Haavisto   4470\n",
       "2      4826   Matti Pellonpää   4470\n",
       "3     54770      Eetu Hilkamo   4470\n",
       "4      4826   Matti Pellonpää  61724"
      ]
     },
     "execution_count": 5,
     "metadata": {},
     "output_type": "execute_result"
    }
   ],
   "source": [
    "%%time\n",
    "\n",
    "cast = []\n",
    "for i in credits.id:\n",
    "    df_dict = literal_eval(credits.loc[credits['id'] == i].cast.values[0])\n",
    "    if len(df_dict) > 0:\n",
    "        df = pd.DataFrame.from_dict(df_dict)[['id','name']]\n",
    "        df.columns = ['actor_id','actor_name']\n",
    "        df['id'] = i\n",
    "        cast.append(df)\n",
    "\n",
    "cast = pd.concat(cast, ignore_index=True)\n",
    "cast.head()"
   ]
  },
  {
   "cell_type": "code",
   "execution_count": 6,
   "metadata": {},
   "outputs": [
    {
     "data": {
      "text/plain": [
       "<AxesSubplot:ylabel='Frequency'>"
      ]
     },
     "execution_count": 6,
     "metadata": {},
     "output_type": "execute_result"
    },
    {
     "data": {
      "image/png": "[encoded data removed]",
      "text/plain": [
       "<Figure size 432x288 with 1 Axes>"
      ]
     },
     "metadata": {
      "needs_background": "light"
     },
     "output_type": "display_data"
    }
   ],
   "source": [
    "cast['num_movies'] = cast.groupby('actor_id')['actor_id'].transform('count')\n",
    "cast['num_movies'].plot.hist(bins=50)"
   ]
  },
  {
   "cell_type": "code",
   "execution_count": 7,
   "metadata": {},
   "outputs": [],
   "source": [
    "cast.loc[cast.num_movies >= 10].to_csv('data/movie_actor.csv', index=False)"
   ]
  },
  {
   "cell_type": "markdown",
   "metadata": {},
   "source": [
    "### Crew\n",
    "\n",
    "Extract ID for movie director, writer and producer. Again, we will consider only those present in at least 10 movies."
   ]
  },
  {
   "cell_type": "code",
   "execution_count": 8,
   "metadata": {},
   "outputs": [
    {
     "data": {
      "text/html": [
       "<div>\n",
       "<style scoped>\n",
       "    .dataframe tbody tr th:only-of-type {\n",
       "        vertical-align: middle;\n",
       "    }\n",
       "\n",
       "    .dataframe tbody tr th {\n",
       "        vertical-align: top;\n",
       "    }\n",
       "\n",
       "    .dataframe thead th {\n",
       "        text-align: right;\n",
       "    }\n",
       "</style>\n",
       "<table border=\"1\" class=\"dataframe\">\n",
       "  <thead>\n",
       "    <tr style=\"text-align: right;\">\n",
       "      <th></th>\n",
       "      <th>credit_id</th>\n",
       "      <th>department</th>\n",
       "      <th>gender</th>\n",
       "      <th>id</th>\n",
       "      <th>job</th>\n",
       "      <th>name</th>\n",
       "      <th>profile_path</th>\n",
       "    </tr>\n",
       "  </thead>\n",
       "  <tbody>\n",
       "    <tr>\n",
       "      <th>0</th>\n",
       "      <td>52fe420dc3a36847f800001f</td>\n",
       "      <td>Writing</td>\n",
       "      <td>0</td>\n",
       "      <td>16767</td>\n",
       "      <td>Screenplay</td>\n",
       "      <td>Aki Kaurismäki</td>\n",
       "      <td>/8nQcTzKUmRh6MPprd1n6iOauYPf.jpg</td>\n",
       "    </tr>\n",
       "    <tr>\n",
       "      <th>1</th>\n",
       "      <td>52fe420dc3a36847f8000025</td>\n",
       "      <td>Directing</td>\n",
       "      <td>0</td>\n",
       "      <td>16767</td>\n",
       "      <td>Director</td>\n",
       "      <td>Aki Kaurismäki</td>\n",
       "      <td>/8nQcTzKUmRh6MPprd1n6iOauYPf.jpg</td>\n",
       "    </tr>\n",
       "    <tr>\n",
       "      <th>2</th>\n",
       "      <td>52fe420dc3a36847f800003b</td>\n",
       "      <td>Camera</td>\n",
       "      <td>2</td>\n",
       "      <td>16769</td>\n",
       "      <td>Director of Photography</td>\n",
       "      <td>Timo Salminen</td>\n",
       "      <td>None</td>\n",
       "    </tr>\n",
       "    <tr>\n",
       "      <th>3</th>\n",
       "      <td>52fe420dc3a36847f8000041</td>\n",
       "      <td>Editing</td>\n",
       "      <td>0</td>\n",
       "      <td>54766</td>\n",
       "      <td>Editor</td>\n",
       "      <td>Raija Talvio</td>\n",
       "      <td>None</td>\n",
       "    </tr>\n",
       "    <tr>\n",
       "      <th>4</th>\n",
       "      <td>52fe420dc3a36847f8000047</td>\n",
       "      <td>Art</td>\n",
       "      <td>2</td>\n",
       "      <td>53836</td>\n",
       "      <td>Production Design</td>\n",
       "      <td>Risto Karhula</td>\n",
       "      <td>None</td>\n",
       "    </tr>\n",
       "    <tr>\n",
       "      <th>5</th>\n",
       "      <td>52fe420dc3a36847f800004d</td>\n",
       "      <td>Costume &amp; Make-Up</td>\n",
       "      <td>0</td>\n",
       "      <td>54771</td>\n",
       "      <td>Costume Design</td>\n",
       "      <td>Tuula Hilkamo</td>\n",
       "      <td>None</td>\n",
       "    </tr>\n",
       "  </tbody>\n",
       "</table>\n",
       "</div>"
      ],
      "text/plain": [
       "                  credit_id         department  gender     id  \\\n",
       "0  52fe420dc3a36847f800001f            Writing       0  16767   \n",
       "1  52fe420dc3a36847f8000025          Directing       0  16767   \n",
       "2  52fe420dc3a36847f800003b             Camera       2  16769   \n",
       "3  52fe420dc3a36847f8000041            Editing       0  54766   \n",
       "4  52fe420dc3a36847f8000047                Art       2  53836   \n",
       "5  52fe420dc3a36847f800004d  Costume & Make-Up       0  54771   \n",
       "\n",
       "                       job            name                      profile_path  \n",
       "0               Screenplay  Aki Kaurismäki  /8nQcTzKUmRh6MPprd1n6iOauYPf.jpg  \n",
       "1                 Director  Aki Kaurismäki  /8nQcTzKUmRh6MPprd1n6iOauYPf.jpg  \n",
       "2  Director of Photography   Timo Salminen                              None  \n",
       "3                   Editor    Raija Talvio                              None  \n",
       "4        Production Design   Risto Karhula                              None  \n",
       "5           Costume Design   Tuula Hilkamo                              None  "
      ]
     },
     "execution_count": 8,
     "metadata": {},
     "output_type": "execute_result"
    }
   ],
   "source": [
    "pd.DataFrame.from_dict(literal_eval(credits.crew[0]))"
   ]
  },
  {
   "cell_type": "code",
   "execution_count": 9,
   "metadata": {},
   "outputs": [
    {
     "name": "stdout",
     "output_type": "stream",
     "text": [
      "CPU times: user 2min 32s, sys: 200 ms, total: 2min 33s\n",
      "Wall time: 2min 33s\n"
     ]
    },
    {
     "data": {
      "text/html": [
       "<div>\n",
       "<style scoped>\n",
       "    .dataframe tbody tr th:only-of-type {\n",
       "        vertical-align: middle;\n",
       "    }\n",
       "\n",
       "    .dataframe tbody tr th {\n",
       "        vertical-align: top;\n",
       "    }\n",
       "\n",
       "    .dataframe thead th {\n",
       "        text-align: right;\n",
       "    }\n",
       "</style>\n",
       "<table border=\"1\" class=\"dataframe\">\n",
       "  <thead>\n",
       "    <tr style=\"text-align: right;\">\n",
       "      <th></th>\n",
       "      <th>person_id</th>\n",
       "      <th>job</th>\n",
       "      <th>person_name</th>\n",
       "      <th>id</th>\n",
       "    </tr>\n",
       "  </thead>\n",
       "  <tbody>\n",
       "    <tr>\n",
       "      <th>0</th>\n",
       "      <td>16767</td>\n",
       "      <td>Screenplay</td>\n",
       "      <td>Aki Kaurismäki</td>\n",
       "      <td>4470</td>\n",
       "    </tr>\n",
       "    <tr>\n",
       "      <th>1</th>\n",
       "      <td>16767</td>\n",
       "      <td>Director</td>\n",
       "      <td>Aki Kaurismäki</td>\n",
       "      <td>4470</td>\n",
       "    </tr>\n",
       "    <tr>\n",
       "      <th>2</th>\n",
       "      <td>16769</td>\n",
       "      <td>Director of Photography</td>\n",
       "      <td>Timo Salminen</td>\n",
       "      <td>4470</td>\n",
       "    </tr>\n",
       "    <tr>\n",
       "      <th>3</th>\n",
       "      <td>54766</td>\n",
       "      <td>Editor</td>\n",
       "      <td>Raija Talvio</td>\n",
       "      <td>4470</td>\n",
       "    </tr>\n",
       "    <tr>\n",
       "      <th>4</th>\n",
       "      <td>53836</td>\n",
       "      <td>Production Design</td>\n",
       "      <td>Risto Karhula</td>\n",
       "      <td>4470</td>\n",
       "    </tr>\n",
       "  </tbody>\n",
       "</table>\n",
       "</div>"
      ],
      "text/plain": [
       "   person_id                      job     person_name    id\n",
       "0      16767               Screenplay  Aki Kaurismäki  4470\n",
       "1      16767                 Director  Aki Kaurismäki  4470\n",
       "2      16769  Director of Photography   Timo Salminen  4470\n",
       "3      54766                   Editor    Raija Talvio  4470\n",
       "4      53836        Production Design   Risto Karhula  4470"
      ]
     },
     "execution_count": 9,
     "metadata": {},
     "output_type": "execute_result"
    }
   ],
   "source": [
    "%%time\n",
    "\n",
    "crew = []\n",
    "for i in credits.id:\n",
    "    df_dict = literal_eval(credits.loc[credits['id'] == i].crew.values[0])\n",
    "    if len(df_dict) > 0:\n",
    "        df = pd.DataFrame.from_dict(df_dict)[['id','job','name']]\n",
    "        df.columns = ['person_id','job','person_name']\n",
    "        df['id'] = i\n",
    "        crew.append(df)\n",
    "\n",
    "crew = pd.concat(crew, ignore_index=True)\n",
    "crew.head()"
   ]
  },
  {
   "cell_type": "code",
   "execution_count": 10,
   "metadata": {},
   "outputs": [
    {
     "data": {
      "text/plain": [
       "Director                          49108\n",
       "Producer                          43630\n",
       "Writer                            30483\n",
       "Screenplay                        25187\n",
       "Editor                            23854\n",
       "                                  ...  \n",
       "Character Modelling Supervisor        1\n",
       "Dramaturgie                           1\n",
       "CG Engineer                           1\n",
       "Battle Motion Coordinator             1\n",
       "Underwater Gaffer                     1\n",
       "Name: job, Length: 456, dtype: int64"
      ]
     },
     "execution_count": 10,
     "metadata": {},
     "output_type": "execute_result"
    }
   ],
   "source": [
    "crew['job'].value_counts()"
   ]
  },
  {
   "cell_type": "code",
   "execution_count": 11,
   "metadata": {},
   "outputs": [
    {
     "data": {
      "text/plain": [
       "<AxesSubplot:ylabel='Frequency'>"
      ]
     },
     "execution_count": 11,
     "metadata": {},
     "output_type": "execute_result"
    },
    {
     "data": {
      "image/png": "[encoded data removed]",
      "text/plain": [
       "<Figure size 432x288 with 1 Axes>"
      ]
     },
     "metadata": {
      "needs_background": "light"
     },
     "output_type": "display_data"
    }
   ],
   "source": [
    "jobs = ['director','producer','writer']\n",
    "crew['num_movies'] = crew.groupby('person_id')['person_id'].transform('count')\n",
    "crew.loc[crew['job'].str.lower().isin(jobs), 'num_movies'].plot.hist(bins=50)"
   ]
  },
  {
   "cell_type": "code",
   "execution_count": null,
   "metadata": {},
   "outputs": [],
   "source": []
  },
  {
   "cell_type": "code",
   "execution_count": 12,
   "metadata": {},
   "outputs": [],
   "source": [
    "crew.loc[crew['job'].str.lower().isin(jobs) & (crew['num_movies'] >= 10)].to_csv('data/movie_producer.csv', index=False)"
   ]
  },
  {
   "cell_type": "markdown",
   "metadata": {},
   "source": [
    "## Extract Movie Genres\n",
    "\n",
    "Extract genres for each movie from the TMDB data in a relational format. Moreover, select other text fields that will be used as content features."
   ]
  },
  {
   "cell_type": "code",
   "execution_count": 13,
   "metadata": {},
   "outputs": [
    {
     "data": {
      "text/html": [
       "<div>\n",
       "<style scoped>\n",
       "    .dataframe tbody tr th:only-of-type {\n",
       "        vertical-align: middle;\n",
       "    }\n",
       "\n",
       "    .dataframe tbody tr th {\n",
       "        vertical-align: top;\n",
       "    }\n",
       "\n",
       "    .dataframe thead th {\n",
       "        text-align: right;\n",
       "    }\n",
       "</style>\n",
       "<table border=\"1\" class=\"dataframe\">\n",
       "  <thead>\n",
       "    <tr style=\"text-align: right;\">\n",
       "      <th></th>\n",
       "      <th>genres</th>\n",
       "      <th>original_title</th>\n",
       "      <th>overview</th>\n",
       "      <th>tagline</th>\n",
       "      <th>title</th>\n",
       "      <th>id</th>\n",
       "    </tr>\n",
       "  </thead>\n",
       "  <tbody>\n",
       "    <tr>\n",
       "      <th>0</th>\n",
       "      <td>[{'id': 80, 'name': 'Crime'}, {'id': 35, 'name...</td>\n",
       "      <td>Four Rooms</td>\n",
       "      <td>It's Ted the Bellhop's first night on the job....</td>\n",
       "      <td>Twelve outrageous guests. Four scandalous requ...</td>\n",
       "      <td>Four Rooms</td>\n",
       "      <td>18</td>\n",
       "    </tr>\n",
       "    <tr>\n",
       "      <th>1</th>\n",
       "      <td>[{'id': 28, 'name': 'Action'}, {'id': 53, 'nam...</td>\n",
       "      <td>Judgment Night</td>\n",
       "      <td>While racing to a boxing match, Frank, Mike, J...</td>\n",
       "      <td>Don't move. Don't whisper. Don't even breathe.</td>\n",
       "      <td>Judgment Night</td>\n",
       "      <td>479</td>\n",
       "    </tr>\n",
       "    <tr>\n",
       "      <th>2</th>\n",
       "      <td>[{'id': 12, 'name': 'Adventure'}, {'id': 28, '...</td>\n",
       "      <td>Star Wars</td>\n",
       "      <td>Princess Leia is captured and held hostage by ...</td>\n",
       "      <td>A long time ago in a galaxy far, far away...</td>\n",
       "      <td>Star Wars</td>\n",
       "      <td>260</td>\n",
       "    </tr>\n",
       "    <tr>\n",
       "      <th>3</th>\n",
       "      <td>[{'id': 16, 'name': 'Animation'}, {'id': 10751...</td>\n",
       "      <td>Finding Nemo</td>\n",
       "      <td>Nemo, an adventurous young clownfish, is unexp...</td>\n",
       "      <td>There are 3.7 trillion fish in the ocean. They...</td>\n",
       "      <td>Finding Nemo</td>\n",
       "      <td>6377</td>\n",
       "    </tr>\n",
       "    <tr>\n",
       "      <th>4</th>\n",
       "      <td>[{'id': 35, 'name': 'Comedy'}, {'id': 18, 'nam...</td>\n",
       "      <td>Forrest Gump</td>\n",
       "      <td>A man with a low IQ has accomplished great thi...</td>\n",
       "      <td>The world will never be the same, once you've ...</td>\n",
       "      <td>Forrest Gump</td>\n",
       "      <td>356</td>\n",
       "    </tr>\n",
       "  </tbody>\n",
       "</table>\n",
       "</div>"
      ],
      "text/plain": [
       "                                              genres  original_title  \\\n",
       "0  [{'id': 80, 'name': 'Crime'}, {'id': 35, 'name...      Four Rooms   \n",
       "1  [{'id': 28, 'name': 'Action'}, {'id': 53, 'nam...  Judgment Night   \n",
       "2  [{'id': 12, 'name': 'Adventure'}, {'id': 28, '...       Star Wars   \n",
       "3  [{'id': 16, 'name': 'Animation'}, {'id': 10751...    Finding Nemo   \n",
       "4  [{'id': 35, 'name': 'Comedy'}, {'id': 18, 'nam...    Forrest Gump   \n",
       "\n",
       "                                            overview  \\\n",
       "0  It's Ted the Bellhop's first night on the job....   \n",
       "1  While racing to a boxing match, Frank, Mike, J...   \n",
       "2  Princess Leia is captured and held hostage by ...   \n",
       "3  Nemo, an adventurous young clownfish, is unexp...   \n",
       "4  A man with a low IQ has accomplished great thi...   \n",
       "\n",
       "                                             tagline           title    id  \n",
       "0  Twelve outrageous guests. Four scandalous requ...      Four Rooms    18  \n",
       "1     Don't move. Don't whisper. Don't even breathe.  Judgment Night   479  \n",
       "2       A long time ago in a galaxy far, far away...       Star Wars   260  \n",
       "3  There are 3.7 trillion fish in the ocean. They...    Finding Nemo  6377  \n",
       "4  The world will never be the same, once you've ...    Forrest Gump   356  "
      ]
     },
     "execution_count": 13,
     "metadata": {},
     "output_type": "execute_result"
    }
   ],
   "source": [
    "movies = pd.read_csv('data/raw/movies_metadata.csv', usecols=['id','original_title','title','overview','tagline','genres'])\n",
    "movies.rename(columns={'id':'tmdb_id'}, inplace=True)\n",
    "movies['tmdb_id'] = pd.to_numeric(movies['tmdb_id'], errors='coerce')\n",
    "movies.dropna(inplace=True)\n",
    "movies.drop_duplicates('tmdb_id', inplace=True)\n",
    "movies.set_index('tmdb_id', inplace=True)\n",
    "movies = movies.join(links, how='inner').reset_index(drop=True)\n",
    "movies.head()"
   ]
  },
  {
   "cell_type": "code",
   "execution_count": 14,
   "metadata": {},
   "outputs": [],
   "source": [
    "movies[['id','original_title','title','overview','tagline']].to_csv('data/movie_info.csv', index=False)"
   ]
  },
  {
   "cell_type": "code",
   "execution_count": 15,
   "metadata": {},
   "outputs": [
    {
     "data": {
      "text/html": [
       "<div>\n",
       "<style scoped>\n",
       "    .dataframe tbody tr th:only-of-type {\n",
       "        vertical-align: middle;\n",
       "    }\n",
       "\n",
       "    .dataframe tbody tr th {\n",
       "        vertical-align: top;\n",
       "    }\n",
       "\n",
       "    .dataframe thead th {\n",
       "        text-align: right;\n",
       "    }\n",
       "</style>\n",
       "<table border=\"1\" class=\"dataframe\">\n",
       "  <thead>\n",
       "    <tr style=\"text-align: right;\">\n",
       "      <th></th>\n",
       "      <th>id</th>\n",
       "      <th>name</th>\n",
       "    </tr>\n",
       "  </thead>\n",
       "  <tbody>\n",
       "    <tr>\n",
       "      <th>0</th>\n",
       "      <td>80</td>\n",
       "      <td>Crime</td>\n",
       "    </tr>\n",
       "    <tr>\n",
       "      <th>1</th>\n",
       "      <td>35</td>\n",
       "      <td>Comedy</td>\n",
       "    </tr>\n",
       "  </tbody>\n",
       "</table>\n",
       "</div>"
      ],
      "text/plain": [
       "   id    name\n",
       "0  80   Crime\n",
       "1  35  Comedy"
      ]
     },
     "execution_count": 15,
     "metadata": {},
     "output_type": "execute_result"
    }
   ],
   "source": [
    "pd.DataFrame.from_dict(literal_eval(movies.genres[0]))"
   ]
  },
  {
   "cell_type": "code",
   "execution_count": 16,
   "metadata": {},
   "outputs": [
    {
     "name": "stdout",
     "output_type": "stream",
     "text": [
      "CPU times: user 53.9 s, sys: 28 ms, total: 53.9 s\n",
      "Wall time: 53.9 s\n"
     ]
    },
    {
     "data": {
      "text/html": [
       "<div>\n",
       "<style scoped>\n",
       "    .dataframe tbody tr th:only-of-type {\n",
       "        vertical-align: middle;\n",
       "    }\n",
       "\n",
       "    .dataframe tbody tr th {\n",
       "        vertical-align: top;\n",
       "    }\n",
       "\n",
       "    .dataframe thead th {\n",
       "        text-align: right;\n",
       "    }\n",
       "</style>\n",
       "<table border=\"1\" class=\"dataframe\">\n",
       "  <thead>\n",
       "    <tr style=\"text-align: right;\">\n",
       "      <th></th>\n",
       "      <th>genre_id</th>\n",
       "      <th>genre_name</th>\n",
       "      <th>id</th>\n",
       "    </tr>\n",
       "  </thead>\n",
       "  <tbody>\n",
       "    <tr>\n",
       "      <th>0</th>\n",
       "      <td>80</td>\n",
       "      <td>Crime</td>\n",
       "      <td>18</td>\n",
       "    </tr>\n",
       "    <tr>\n",
       "      <th>1</th>\n",
       "      <td>35</td>\n",
       "      <td>Comedy</td>\n",
       "      <td>18</td>\n",
       "    </tr>\n",
       "    <tr>\n",
       "      <th>2</th>\n",
       "      <td>28</td>\n",
       "      <td>Action</td>\n",
       "      <td>479</td>\n",
       "    </tr>\n",
       "    <tr>\n",
       "      <th>3</th>\n",
       "      <td>53</td>\n",
       "      <td>Thriller</td>\n",
       "      <td>479</td>\n",
       "    </tr>\n",
       "    <tr>\n",
       "      <th>4</th>\n",
       "      <td>80</td>\n",
       "      <td>Crime</td>\n",
       "      <td>479</td>\n",
       "    </tr>\n",
       "  </tbody>\n",
       "</table>\n",
       "</div>"
      ],
      "text/plain": [
       "   genre_id genre_name   id\n",
       "0        80      Crime   18\n",
       "1        35     Comedy   18\n",
       "2        28     Action  479\n",
       "3        53   Thriller  479\n",
       "4        80      Crime  479"
      ]
     },
     "execution_count": 16,
     "metadata": {},
     "output_type": "execute_result"
    }
   ],
   "source": [
    "%%time\n",
    "\n",
    "genre = []\n",
    "for i in movies.id:\n",
    "    df_dict = literal_eval(movies.loc[movies['id'] == i].genres.values[0])\n",
    "    if len(df_dict) > 0:\n",
    "        df = pd.DataFrame.from_dict(df_dict)[['id','name']]\n",
    "        df.columns = ['genre_id','genre_name']\n",
    "        df['id'] = i\n",
    "        genre.append(df)\n",
    "\n",
    "genre = pd.concat(genre, ignore_index=True)\n",
    "genre.head()"
   ]
  },
  {
   "cell_type": "code",
   "execution_count": 17,
   "metadata": {},
   "outputs": [],
   "source": [
    "genre.to_csv('data/movie_genre.csv', index=False)"
   ]
  },
  {
   "cell_type": "markdown",
   "metadata": {},
   "source": [
    "## Extract Movie Keywords\n",
    "\n",
    "Extract keywords assigned to each movie in the TMDB dataset. We will merge all keywords in a single text field."
   ]
  },
  {
   "cell_type": "code",
   "execution_count": 18,
   "metadata": {},
   "outputs": [
    {
     "data": {
      "text/html": [
       "<div>\n",
       "<style scoped>\n",
       "    .dataframe tbody tr th:only-of-type {\n",
       "        vertical-align: middle;\n",
       "    }\n",
       "\n",
       "    .dataframe tbody tr th {\n",
       "        vertical-align: top;\n",
       "    }\n",
       "\n",
       "    .dataframe thead th {\n",
       "        text-align: right;\n",
       "    }\n",
       "</style>\n",
       "<table border=\"1\" class=\"dataframe\">\n",
       "  <thead>\n",
       "    <tr style=\"text-align: right;\">\n",
       "      <th></th>\n",
       "      <th>keywords</th>\n",
       "      <th>id</th>\n",
       "    </tr>\n",
       "  </thead>\n",
       "  <tbody>\n",
       "    <tr>\n",
       "      <th>0</th>\n",
       "      <td>[{'id': 240, 'name': 'underdog'}, {'id': 378, ...</td>\n",
       "      <td>4470</td>\n",
       "    </tr>\n",
       "    <tr>\n",
       "      <th>1</th>\n",
       "      <td>[{'id': 1361, 'name': 'salesclerk'}, {'id': 17...</td>\n",
       "      <td>61724</td>\n",
       "    </tr>\n",
       "    <tr>\n",
       "      <th>2</th>\n",
       "      <td>[{'id': 612, 'name': 'hotel'}, {'id': 613, 'na...</td>\n",
       "      <td>18</td>\n",
       "    </tr>\n",
       "    <tr>\n",
       "      <th>3</th>\n",
       "      <td>[{'id': 520, 'name': 'chicago'}, {'id': 2231, ...</td>\n",
       "      <td>479</td>\n",
       "    </tr>\n",
       "    <tr>\n",
       "      <th>4</th>\n",
       "      <td>[{'id': 803, 'name': 'android'}, {'id': 4270, ...</td>\n",
       "      <td>260</td>\n",
       "    </tr>\n",
       "  </tbody>\n",
       "</table>\n",
       "</div>"
      ],
      "text/plain": [
       "                                            keywords     id\n",
       "0  [{'id': 240, 'name': 'underdog'}, {'id': 378, ...   4470\n",
       "1  [{'id': 1361, 'name': 'salesclerk'}, {'id': 17...  61724\n",
       "2  [{'id': 612, 'name': 'hotel'}, {'id': 613, 'na...     18\n",
       "3  [{'id': 520, 'name': 'chicago'}, {'id': 2231, ...    479\n",
       "4  [{'id': 803, 'name': 'android'}, {'id': 4270, ...    260"
      ]
     },
     "execution_count": 18,
     "metadata": {},
     "output_type": "execute_result"
    }
   ],
   "source": [
    "keywords = pd.read_csv('data/raw/keywords.csv')\n",
    "keywords.rename(columns={'id':'tmdb_id'}, inplace=True)\n",
    "keywords['tmdb_id'] = keywords['tmdb_id'].astype('Int64')\n",
    "keywords.set_index('tmdb_id', inplace=True)\n",
    "keywords = keywords.join(links, how='inner').reset_index(drop=True)\n",
    "keywords.head()"
   ]
  },
  {
   "cell_type": "code",
   "execution_count": 19,
   "metadata": {},
   "outputs": [
    {
     "data": {
      "text/html": [
       "<div>\n",
       "<style scoped>\n",
       "    .dataframe tbody tr th:only-of-type {\n",
       "        vertical-align: middle;\n",
       "    }\n",
       "\n",
       "    .dataframe tbody tr th {\n",
       "        vertical-align: top;\n",
       "    }\n",
       "\n",
       "    .dataframe thead th {\n",
       "        text-align: right;\n",
       "    }\n",
       "</style>\n",
       "<table border=\"1\" class=\"dataframe\">\n",
       "  <thead>\n",
       "    <tr style=\"text-align: right;\">\n",
       "      <th></th>\n",
       "      <th>id</th>\n",
       "      <th>name</th>\n",
       "    </tr>\n",
       "  </thead>\n",
       "  <tbody>\n",
       "    <tr>\n",
       "      <th>0</th>\n",
       "      <td>240</td>\n",
       "      <td>underdog</td>\n",
       "    </tr>\n",
       "    <tr>\n",
       "      <th>1</th>\n",
       "      <td>378</td>\n",
       "      <td>prison</td>\n",
       "    </tr>\n",
       "    <tr>\n",
       "      <th>2</th>\n",
       "      <td>730</td>\n",
       "      <td>factory worker</td>\n",
       "    </tr>\n",
       "    <tr>\n",
       "      <th>3</th>\n",
       "      <td>1563</td>\n",
       "      <td>prisoner</td>\n",
       "    </tr>\n",
       "    <tr>\n",
       "      <th>4</th>\n",
       "      <td>1787</td>\n",
       "      <td>helsinki</td>\n",
       "    </tr>\n",
       "    <tr>\n",
       "      <th>5</th>\n",
       "      <td>10183</td>\n",
       "      <td>independent film</td>\n",
       "    </tr>\n",
       "    <tr>\n",
       "      <th>6</th>\n",
       "      <td>13072</td>\n",
       "      <td>falling in love</td>\n",
       "    </tr>\n",
       "  </tbody>\n",
       "</table>\n",
       "</div>"
      ],
      "text/plain": [
       "      id              name\n",
       "0    240          underdog\n",
       "1    378            prison\n",
       "2    730    factory worker\n",
       "3   1563          prisoner\n",
       "4   1787          helsinki\n",
       "5  10183  independent film\n",
       "6  13072   falling in love"
      ]
     },
     "execution_count": 19,
     "metadata": {},
     "output_type": "execute_result"
    }
   ],
   "source": [
    "pd.DataFrame.from_dict(literal_eval(keywords.keywords[0]))"
   ]
  },
  {
   "cell_type": "code",
   "execution_count": 20,
   "metadata": {},
   "outputs": [
    {
     "data": {
      "text/plain": [
       "'underdog prison factory worker prisoner helsinki independent film falling in love'"
      ]
     },
     "execution_count": 20,
     "metadata": {},
     "output_type": "execute_result"
    }
   ],
   "source": [
    "' '.join([i['name'] for i in literal_eval(keywords.keywords[0])])"
   ]
  },
  {
   "cell_type": "code",
   "execution_count": 21,
   "metadata": {},
   "outputs": [
    {
     "name": "stdout",
     "output_type": "stream",
     "text": [
      "CPU times: user 58.8 s, sys: 28 ms, total: 58.8 s\n",
      "Wall time: 58.8 s\n"
     ]
    },
    {
     "data": {
      "text/html": [
       "<div>\n",
       "<style scoped>\n",
       "    .dataframe tbody tr th:only-of-type {\n",
       "        vertical-align: middle;\n",
       "    }\n",
       "\n",
       "    .dataframe tbody tr th {\n",
       "        vertical-align: top;\n",
       "    }\n",
       "\n",
       "    .dataframe thead th {\n",
       "        text-align: right;\n",
       "    }\n",
       "</style>\n",
       "<table border=\"1\" class=\"dataframe\">\n",
       "  <thead>\n",
       "    <tr style=\"text-align: right;\">\n",
       "      <th></th>\n",
       "      <th>keywords</th>\n",
       "      <th>id</th>\n",
       "    </tr>\n",
       "  </thead>\n",
       "  <tbody>\n",
       "    <tr>\n",
       "      <th>0</th>\n",
       "      <td>underdog prison factory worker prisoner helsin...</td>\n",
       "      <td>4470</td>\n",
       "    </tr>\n",
       "    <tr>\n",
       "      <th>1</th>\n",
       "      <td>salesclerk helsinki garbage independent film</td>\n",
       "      <td>61724</td>\n",
       "    </tr>\n",
       "    <tr>\n",
       "      <th>2</th>\n",
       "      <td>hotel new year's eve witch bet hotel room sper...</td>\n",
       "      <td>18</td>\n",
       "    </tr>\n",
       "    <tr>\n",
       "      <th>3</th>\n",
       "      <td>chicago drug dealer boxing match escape one night</td>\n",
       "      <td>479</td>\n",
       "    </tr>\n",
       "    <tr>\n",
       "      <th>4</th>\n",
       "      <td>android galaxy hermit death star lightsaber je...</td>\n",
       "      <td>260</td>\n",
       "    </tr>\n",
       "  </tbody>\n",
       "</table>\n",
       "</div>"
      ],
      "text/plain": [
       "                                            keywords     id\n",
       "0  underdog prison factory worker prisoner helsin...   4470\n",
       "1       salesclerk helsinki garbage independent film  61724\n",
       "2  hotel new year's eve witch bet hotel room sper...     18\n",
       "3  chicago drug dealer boxing match escape one night    479\n",
       "4  android galaxy hermit death star lightsaber je...    260"
      ]
     },
     "execution_count": 21,
     "metadata": {},
     "output_type": "execute_result"
    }
   ],
   "source": [
    "%%time\n",
    "\n",
    "keys = []\n",
    "for i in keywords.id:\n",
    "    df_dict = literal_eval(keywords.loc[keywords['id'] == i].keywords.values[0])\n",
    "    if len(df_dict) > 0:\n",
    "        kw = ' '.join([i['name'] for i in df_dict])\n",
    "        df = pd.DataFrame(data={'keywords': [kw]})\n",
    "        df['id'] = i\n",
    "        keys.append(df)\n",
    "\n",
    "keys = pd.concat(keys, ignore_index=True)\n",
    "keys.head()"
   ]
  },
  {
   "cell_type": "code",
   "execution_count": 22,
   "metadata": {},
   "outputs": [],
   "source": [
    "keys.to_csv('data/movie_keywords.csv', index=False)"
   ]
  },
  {
   "cell_type": "markdown",
   "metadata": {},
   "source": [
    "## Extract User Tags\n",
    "\n",
    "Extract tags assigned to the movies by the users in the MovieLens dataset. They will be combined in a single text field."
   ]
  },
  {
   "cell_type": "code",
   "execution_count": 23,
   "metadata": {},
   "outputs": [
    {
     "data": {
      "text/html": [
       "<div>\n",
       "<style scoped>\n",
       "    .dataframe tbody tr th:only-of-type {\n",
       "        vertical-align: middle;\n",
       "    }\n",
       "\n",
       "    .dataframe tbody tr th {\n",
       "        vertical-align: top;\n",
       "    }\n",
       "\n",
       "    .dataframe thead th {\n",
       "        text-align: right;\n",
       "    }\n",
       "</style>\n",
       "<table border=\"1\" class=\"dataframe\">\n",
       "  <thead>\n",
       "    <tr style=\"text-align: right;\">\n",
       "      <th></th>\n",
       "      <th>movieId</th>\n",
       "      <th>tag</th>\n",
       "    </tr>\n",
       "  </thead>\n",
       "  <tbody>\n",
       "    <tr>\n",
       "      <th>0</th>\n",
       "      <td>110</td>\n",
       "      <td>epic</td>\n",
       "    </tr>\n",
       "    <tr>\n",
       "      <th>1</th>\n",
       "      <td>110</td>\n",
       "      <td>Medieval</td>\n",
       "    </tr>\n",
       "    <tr>\n",
       "      <th>2</th>\n",
       "      <td>260</td>\n",
       "      <td>sci-fi</td>\n",
       "    </tr>\n",
       "    <tr>\n",
       "      <th>3</th>\n",
       "      <td>260</td>\n",
       "      <td>space action</td>\n",
       "    </tr>\n",
       "    <tr>\n",
       "      <th>4</th>\n",
       "      <td>318</td>\n",
       "      <td>imdb top 250</td>\n",
       "    </tr>\n",
       "  </tbody>\n",
       "</table>\n",
       "</div>"
      ],
      "text/plain": [
       "   movieId           tag\n",
       "0      110          epic\n",
       "1      110      Medieval\n",
       "2      260        sci-fi\n",
       "3      260  space action\n",
       "4      318  imdb top 250"
      ]
     },
     "execution_count": 23,
     "metadata": {},
     "output_type": "execute_result"
    }
   ],
   "source": [
    "tags = pd.read_csv('data/raw/tags.csv', usecols=['movieId','tag'])\n",
    "tags.head()"
   ]
  },
  {
   "cell_type": "code",
   "execution_count": 24,
   "metadata": {},
   "outputs": [
    {
     "name": "stdout",
     "output_type": "stream",
     "text": [
      "CPU times: user 908 ms, sys: 36 ms, total: 944 ms\n",
      "Wall time: 942 ms\n"
     ]
    },
    {
     "data": {
      "text/html": [
       "<div>\n",
       "<style scoped>\n",
       "    .dataframe tbody tr th:only-of-type {\n",
       "        vertical-align: middle;\n",
       "    }\n",
       "\n",
       "    .dataframe tbody tr th {\n",
       "        vertical-align: top;\n",
       "    }\n",
       "\n",
       "    .dataframe thead th {\n",
       "        text-align: right;\n",
       "    }\n",
       "</style>\n",
       "<table border=\"1\" class=\"dataframe\">\n",
       "  <thead>\n",
       "    <tr style=\"text-align: right;\">\n",
       "      <th></th>\n",
       "      <th>id</th>\n",
       "      <th>tags</th>\n",
       "    </tr>\n",
       "  </thead>\n",
       "  <tbody>\n",
       "    <tr>\n",
       "      <th>0</th>\n",
       "      <td>110</td>\n",
       "      <td>epic Medieval overrated Oscar (Best Picture) e...</td>\n",
       "    </tr>\n",
       "    <tr>\n",
       "      <th>1</th>\n",
       "      <td>260</td>\n",
       "      <td>sci-fi space action classic sci-fi Harrison Fo...</td>\n",
       "    </tr>\n",
       "    <tr>\n",
       "      <th>2</th>\n",
       "      <td>318</td>\n",
       "      <td>imdb top 250 justice story line hope inspirati...</td>\n",
       "    </tr>\n",
       "    <tr>\n",
       "      <th>3</th>\n",
       "      <td>480</td>\n",
       "      <td>Dinosaurs dinosaurs action thriller dinosaurs ...</td>\n",
       "    </tr>\n",
       "    <tr>\n",
       "      <th>4</th>\n",
       "      <td>593</td>\n",
       "      <td>psychothriller brilliant exploratory ligne de ...</td>\n",
       "    </tr>\n",
       "  </tbody>\n",
       "</table>\n",
       "</div>"
      ],
      "text/plain": [
       "    id                                               tags\n",
       "0  110  epic Medieval overrated Oscar (Best Picture) e...\n",
       "1  260  sci-fi space action classic sci-fi Harrison Fo...\n",
       "2  318  imdb top 250 justice story line hope inspirati...\n",
       "3  480  Dinosaurs dinosaurs action thriller dinosaurs ...\n",
       "4  593  psychothriller brilliant exploratory ligne de ..."
      ]
     },
     "execution_count": 24,
     "metadata": {},
     "output_type": "execute_result"
    }
   ],
   "source": [
    "%%time\n",
    "\n",
    "tags_groups = tags[['movieId','tag']].dropna().groupby('movieId', sort=False)\n",
    "tags = tags_groups['tag'].agg(tags=lambda x: ' '.join(x)).reset_index(drop=False)\n",
    "tags.columns = ['id', 'tags']\n",
    "tags.head()"
   ]
  },
  {
   "cell_type": "code",
   "execution_count": 25,
   "metadata": {},
   "outputs": [],
   "source": [
    "tags.to_csv('data/movie_tags.csv', index=False)"
   ]
  },
  {
   "cell_type": "markdown",
   "metadata": {},
   "source": [
    "## Filter user ratings\n",
    "\n",
    "From the user ratings in the MovieLens dataset, select only those associated with movies with at least 30 votes and users with at least 3 votes. This way we discard irrelevant interactions and reduce data dimension. "
   ]
  },
  {
   "cell_type": "code",
   "execution_count": 26,
   "metadata": {},
   "outputs": [
    {
     "data": {
      "text/html": [
       "<div>\n",
       "<style scoped>\n",
       "    .dataframe tbody tr th:only-of-type {\n",
       "        vertical-align: middle;\n",
       "    }\n",
       "\n",
       "    .dataframe tbody tr th {\n",
       "        vertical-align: top;\n",
       "    }\n",
       "\n",
       "    .dataframe thead th {\n",
       "        text-align: right;\n",
       "    }\n",
       "</style>\n",
       "<table border=\"1\" class=\"dataframe\">\n",
       "  <thead>\n",
       "    <tr style=\"text-align: right;\">\n",
       "      <th></th>\n",
       "      <th>user</th>\n",
       "      <th>id</th>\n",
       "      <th>rating</th>\n",
       "    </tr>\n",
       "  </thead>\n",
       "  <tbody>\n",
       "    <tr>\n",
       "      <th>0</th>\n",
       "      <td>1</td>\n",
       "      <td>307</td>\n",
       "      <td>3.5</td>\n",
       "    </tr>\n",
       "    <tr>\n",
       "      <th>1</th>\n",
       "      <td>1</td>\n",
       "      <td>481</td>\n",
       "      <td>3.5</td>\n",
       "    </tr>\n",
       "    <tr>\n",
       "      <th>2</th>\n",
       "      <td>1</td>\n",
       "      <td>1091</td>\n",
       "      <td>1.5</td>\n",
       "    </tr>\n",
       "    <tr>\n",
       "      <th>3</th>\n",
       "      <td>1</td>\n",
       "      <td>1257</td>\n",
       "      <td>4.5</td>\n",
       "    </tr>\n",
       "    <tr>\n",
       "      <th>4</th>\n",
       "      <td>1</td>\n",
       "      <td>1449</td>\n",
       "      <td>4.5</td>\n",
       "    </tr>\n",
       "  </tbody>\n",
       "</table>\n",
       "</div>"
      ],
      "text/plain": [
       "   user    id  rating\n",
       "0     1   307     3.5\n",
       "1     1   481     3.5\n",
       "2     1  1091     1.5\n",
       "3     1  1257     4.5\n",
       "4     1  1449     4.5"
      ]
     },
     "execution_count": 26,
     "metadata": {},
     "output_type": "execute_result"
    }
   ],
   "source": [
    "ratings = pd.read_csv('data/raw/ratings.csv', usecols=['userId','movieId','rating'])\n",
    "ratings.columns = ['user','id','rating']\n",
    "ratings.head()"
   ]
  },
  {
   "cell_type": "code",
   "execution_count": 27,
   "metadata": {},
   "outputs": [],
   "source": [
    "ratings['user_votes'] = ratings.groupby('user')['user'].transform('count')\n",
    "ratings['movie_votes'] = ratings.groupby('id')['id'].transform('count')"
   ]
  },
  {
   "cell_type": "code",
   "execution_count": null,
   "metadata": {},
   "outputs": [],
   "source": [
    "ratings.loc[(ratings['movie_votes'] >= 30) & (ratings['user_votes'] >= 3), ['user','id','rating']].to_csv('data/movie_ratings.csv', index=False)"
   ]
  }
 ],
 "metadata": {
  "kernelspec": {
   "display_name": "Python 3",
   "language": "python",
   "name": "python3"
  },
  "language_info": {
   "codemirror_mode": {
    "name": "ipython",
    "version": 3
   },
   "file_extension": ".py",
   "mimetype": "text/x-python",
   "name": "python",
   "nbconvert_exporter": "python",
   "pygments_lexer": "ipython3",
   "version": "3.7.9"
  }
 },
 "nbformat": 4,
 "nbformat_minor": 4
}
